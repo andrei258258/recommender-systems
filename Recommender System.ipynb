{
 "cells": [
  {
   "cell_type": "markdown",
   "metadata": {},
   "source": [
    "# Sistema de Recomendação\n",
    "## Baseado em Matrix Factorization SVD"
   ]
  },
  {
   "cell_type": "markdown",
   "metadata": {},
   "source": [
    "Autores: Andrei Donati, Angelo Baruffi e Luís Felipe Pelison"
   ]
  },
  {
   "cell_type": "markdown",
   "metadata": {},
   "source": [
    "O DataSet utilizado para este código é o MovieLens (https://grouplens.org/datasets/movielens/). \n",
    "A fim de teste, foi adicionado entradas referentes ao desenvolvedor. "
   ]
  },
  {
   "cell_type": "markdown",
   "metadata": {},
   "source": [
    "# Bibliotecas python (3)"
   ]
  },
  {
   "cell_type": "code",
   "execution_count": 221,
   "metadata": {
    "collapsed": true
   },
   "outputs": [],
   "source": [
    "import pandas as pd\n",
    "import numpy as np\n",
    "import matplotlib.pyplot as plt\n",
    "import math\n",
    "from scipy.sparse.linalg import svds\n",
    "from sklearn.model_selection import train_test_split\n",
    "%matplotlib inline\n",
    "#import os\n",
    "#os.chdir('c:\\\\Andrei\\\\recommender-systems\\\\dataset')"
   ]
  },
  {
   "cell_type": "markdown",
   "metadata": {},
   "source": [
    "# Importação dos dados"
   ]
  },
  {
   "cell_type": "markdown",
   "metadata": {},
   "source": [
    "## Ratings"
   ]
  },
  {
   "cell_type": "code",
   "execution_count": 222,
   "metadata": {
    "collapsed": false
   },
   "outputs": [
    {
     "data": {
      "text/html": [
       "<div>\n",
       "<table border=\"1\" class=\"dataframe\">\n",
       "  <thead>\n",
       "    <tr style=\"text-align: right;\">\n",
       "      <th></th>\n",
       "      <th>userId</th>\n",
       "      <th>movieId</th>\n",
       "      <th>rating</th>\n",
       "      <th>timestamp</th>\n",
       "    </tr>\n",
       "  </thead>\n",
       "  <tbody>\n",
       "    <tr>\n",
       "      <th>0</th>\n",
       "      <td>1</td>\n",
       "      <td>31</td>\n",
       "      <td>2.5</td>\n",
       "      <td>1260759144</td>\n",
       "    </tr>\n",
       "    <tr>\n",
       "      <th>1</th>\n",
       "      <td>1</td>\n",
       "      <td>1029</td>\n",
       "      <td>3.0</td>\n",
       "      <td>1260759179</td>\n",
       "    </tr>\n",
       "    <tr>\n",
       "      <th>2</th>\n",
       "      <td>1</td>\n",
       "      <td>1061</td>\n",
       "      <td>3.0</td>\n",
       "      <td>1260759182</td>\n",
       "    </tr>\n",
       "    <tr>\n",
       "      <th>3</th>\n",
       "      <td>1</td>\n",
       "      <td>1129</td>\n",
       "      <td>2.0</td>\n",
       "      <td>1260759185</td>\n",
       "    </tr>\n",
       "    <tr>\n",
       "      <th>4</th>\n",
       "      <td>1</td>\n",
       "      <td>1172</td>\n",
       "      <td>4.0</td>\n",
       "      <td>1260759205</td>\n",
       "    </tr>\n",
       "  </tbody>\n",
       "</table>\n",
       "</div>"
      ],
      "text/plain": [
       "   userId  movieId  rating   timestamp\n",
       "0       1       31     2.5  1260759144\n",
       "1       1     1029     3.0  1260759179\n",
       "2       1     1061     3.0  1260759182\n",
       "3       1     1129     2.0  1260759185\n",
       "4       1     1172     4.0  1260759205"
      ]
     },
     "execution_count": 222,
     "metadata": {},
     "output_type": "execute_result"
    }
   ],
   "source": [
    "ratings_df = pd.read_csv(\"./dataset/ratings.csv\", sep=\",\")\n",
    "ratings_df.head()"
   ]
  },
  {
   "cell_type": "markdown",
   "metadata": {},
   "source": [
    "Temos o id do usuário (*userId*), do filme (*movieId*), a nota dada pelo usuário ao filme (*rating*) e o horário que essa nota foi dada (*timestamp*)"
   ]
  },
  {
   "cell_type": "markdown",
   "metadata": {},
   "source": [
    "Porém, não precisaremos do horário aqui, então vamos excluir a coluna *timestamp*"
   ]
  },
  {
   "cell_type": "code",
   "execution_count": 223,
   "metadata": {
    "collapsed": false
   },
   "outputs": [
    {
     "data": {
      "text/html": [
       "<div>\n",
       "<table border=\"1\" class=\"dataframe\">\n",
       "  <thead>\n",
       "    <tr style=\"text-align: right;\">\n",
       "      <th></th>\n",
       "      <th>userId</th>\n",
       "      <th>movieId</th>\n",
       "      <th>rating</th>\n",
       "    </tr>\n",
       "  </thead>\n",
       "  <tbody>\n",
       "    <tr>\n",
       "      <th>0</th>\n",
       "      <td>1</td>\n",
       "      <td>31</td>\n",
       "      <td>2.5</td>\n",
       "    </tr>\n",
       "    <tr>\n",
       "      <th>1</th>\n",
       "      <td>1</td>\n",
       "      <td>1029</td>\n",
       "      <td>3.0</td>\n",
       "    </tr>\n",
       "    <tr>\n",
       "      <th>2</th>\n",
       "      <td>1</td>\n",
       "      <td>1061</td>\n",
       "      <td>3.0</td>\n",
       "    </tr>\n",
       "    <tr>\n",
       "      <th>3</th>\n",
       "      <td>1</td>\n",
       "      <td>1129</td>\n",
       "      <td>2.0</td>\n",
       "    </tr>\n",
       "    <tr>\n",
       "      <th>4</th>\n",
       "      <td>1</td>\n",
       "      <td>1172</td>\n",
       "      <td>4.0</td>\n",
       "    </tr>\n",
       "  </tbody>\n",
       "</table>\n",
       "</div>"
      ],
      "text/plain": [
       "   userId  movieId  rating\n",
       "0       1       31     2.5\n",
       "1       1     1029     3.0\n",
       "2       1     1061     3.0\n",
       "3       1     1129     2.0\n",
       "4       1     1172     4.0"
      ]
     },
     "execution_count": 223,
     "metadata": {},
     "output_type": "execute_result"
    }
   ],
   "source": [
    "ratings_df = ratings_df.iloc[:,0:3]\n",
    "ratings_df.head()"
   ]
  },
  {
   "cell_type": "markdown",
   "metadata": {},
   "source": [
    "### Separação em teste e treino"
   ]
  },
  {
   "cell_type": "code",
   "execution_count": 224,
   "metadata": {
    "collapsed": false
   },
   "outputs": [
    {
     "data": {
      "text/plain": [
       "(5001, 95003)"
      ]
     },
     "execution_count": 224,
     "metadata": {},
     "output_type": "execute_result"
    }
   ],
   "source": [
    "## Vamos separar os dados em 2 conjuntos: teste e treino\n",
    "ratings_df, ratings_df_test = train_test_split(\n",
    "                                ratings_df, test_size=0.05, random_state=42)\n",
    "\n",
    "## Visualizando a quantidade de dados de cada conjunto\n",
    "ratings_df_test.shape[0], ratings_df.shape[0]"
   ]
  },
  {
   "cell_type": "markdown",
   "metadata": {},
   "source": [
    "## Movies"
   ]
  },
  {
   "cell_type": "code",
   "execution_count": 225,
   "metadata": {
    "collapsed": false
   },
   "outputs": [
    {
     "data": {
      "text/html": [
       "<div>\n",
       "<table border=\"1\" class=\"dataframe\">\n",
       "  <thead>\n",
       "    <tr style=\"text-align: right;\">\n",
       "      <th></th>\n",
       "      <th>movieId</th>\n",
       "      <th>title</th>\n",
       "      <th>genres</th>\n",
       "    </tr>\n",
       "  </thead>\n",
       "  <tbody>\n",
       "    <tr>\n",
       "      <th>0</th>\n",
       "      <td>1</td>\n",
       "      <td>Toy Story (1995)</td>\n",
       "      <td>Adventure|Animation|Children|Comedy|Fantasy</td>\n",
       "    </tr>\n",
       "    <tr>\n",
       "      <th>1</th>\n",
       "      <td>2</td>\n",
       "      <td>Jumanji (1995)</td>\n",
       "      <td>Adventure|Children|Fantasy</td>\n",
       "    </tr>\n",
       "    <tr>\n",
       "      <th>2</th>\n",
       "      <td>3</td>\n",
       "      <td>Grumpier Old Men (1995)</td>\n",
       "      <td>Comedy|Romance</td>\n",
       "    </tr>\n",
       "    <tr>\n",
       "      <th>3</th>\n",
       "      <td>4</td>\n",
       "      <td>Waiting to Exhale (1995)</td>\n",
       "      <td>Comedy|Drama|Romance</td>\n",
       "    </tr>\n",
       "    <tr>\n",
       "      <th>4</th>\n",
       "      <td>5</td>\n",
       "      <td>Father of the Bride Part II (1995)</td>\n",
       "      <td>Comedy</td>\n",
       "    </tr>\n",
       "  </tbody>\n",
       "</table>\n",
       "</div>"
      ],
      "text/plain": [
       "   movieId                               title  \\\n",
       "0        1                    Toy Story (1995)   \n",
       "1        2                      Jumanji (1995)   \n",
       "2        3             Grumpier Old Men (1995)   \n",
       "3        4            Waiting to Exhale (1995)   \n",
       "4        5  Father of the Bride Part II (1995)   \n",
       "\n",
       "                                        genres  \n",
       "0  Adventure|Animation|Children|Comedy|Fantasy  \n",
       "1                   Adventure|Children|Fantasy  \n",
       "2                               Comedy|Romance  \n",
       "3                         Comedy|Drama|Romance  \n",
       "4                                       Comedy  "
      ]
     },
     "execution_count": 225,
     "metadata": {},
     "output_type": "execute_result"
    }
   ],
   "source": [
    "movies_df = pd.read_csv(\"./dataset/movies.csv\", sep=\",\")\n",
    "movies_df.head()"
   ]
  },
  {
   "cell_type": "code",
   "execution_count": 226,
   "metadata": {
    "collapsed": false
   },
   "outputs": [
    {
     "name": "stdout",
     "output_type": "stream",
     "text": [
      "<class 'pandas.core.frame.DataFrame'>\n",
      "RangeIndex: 9125 entries, 0 to 9124\n",
      "Data columns (total 3 columns):\n",
      "movieId    9125 non-null int64\n",
      "title      9125 non-null object\n",
      "genres     9125 non-null object\n",
      "dtypes: int64(1), object(2)\n",
      "memory usage: 213.9+ KB\n"
     ]
    }
   ],
   "source": [
    "movies_df.info()"
   ]
  },
  {
   "cell_type": "markdown",
   "metadata": {},
   "source": [
    "# Adicionando dados pessoais"
   ]
  },
  {
   "cell_type": "code",
   "execution_count": 227,
   "metadata": {
    "collapsed": false
   },
   "outputs": [
    {
     "name": "stdout",
     "output_type": "stream",
     "text": [
      "Number of users 672\n"
     ]
    }
   ],
   "source": [
    "#Quantos usuários existem?\n",
    "\n",
    "num_users  = np.max(ratings_df['userId']) +1\n",
    "print(\"Number of users {}\".format(num_users))"
   ]
  },
  {
   "cell_type": "markdown",
   "metadata": {},
   "source": [
    "Adicionando os meus dados"
   ]
  },
  {
   "cell_type": "code",
   "execution_count": 228,
   "metadata": {
    "collapsed": false,
    "scrolled": true
   },
   "outputs": [
    {
     "name": "stdout",
     "output_type": "stream",
     "text": [
      "Visualizando os filmes que gosto\n"
     ]
    },
    {
     "data": {
      "text/html": [
       "<div>\n",
       "<table border=\"1\" class=\"dataframe\">\n",
       "  <thead>\n",
       "    <tr style=\"text-align: right;\">\n",
       "      <th></th>\n",
       "      <th>userId</th>\n",
       "      <th>movieId</th>\n",
       "      <th>rating</th>\n",
       "      <th>title</th>\n",
       "      <th>genres</th>\n",
       "    </tr>\n",
       "  </thead>\n",
       "  <tbody>\n",
       "    <tr>\n",
       "      <th>20</th>\n",
       "      <td>672</td>\n",
       "      <td>68157</td>\n",
       "      <td>5.0</td>\n",
       "      <td>Inglourious Basterds (2009)</td>\n",
       "      <td>Action|Drama|War</td>\n",
       "    </tr>\n",
       "    <tr>\n",
       "      <th>3</th>\n",
       "      <td>672</td>\n",
       "      <td>130634</td>\n",
       "      <td>5.0</td>\n",
       "      <td>Furious 7 (2015)</td>\n",
       "      <td>Action|Crime|Thriller</td>\n",
       "    </tr>\n",
       "    <tr>\n",
       "      <th>9</th>\n",
       "      <td>672</td>\n",
       "      <td>112183</td>\n",
       "      <td>5.0</td>\n",
       "      <td>Birdman: Or (The Unexpected Virtue of Ignoranc...</td>\n",
       "      <td>Comedy|Drama</td>\n",
       "    </tr>\n",
       "    <tr>\n",
       "      <th>19</th>\n",
       "      <td>672</td>\n",
       "      <td>67923</td>\n",
       "      <td>4.5</td>\n",
       "      <td>Fast &amp; Furious (Fast and the Furious 4, The) (...</td>\n",
       "      <td>Action|Crime|Drama|Thriller</td>\n",
       "    </tr>\n",
       "    <tr>\n",
       "      <th>4</th>\n",
       "      <td>672</td>\n",
       "      <td>116797</td>\n",
       "      <td>4.5</td>\n",
       "      <td>The Imitation Game (2014)</td>\n",
       "      <td>Drama|Thriller|War</td>\n",
       "    </tr>\n",
       "    <tr>\n",
       "      <th>18</th>\n",
       "      <td>672</td>\n",
       "      <td>63515</td>\n",
       "      <td>4.5</td>\n",
       "      <td>The Island (2006)</td>\n",
       "      <td>Drama|Mystery</td>\n",
       "    </tr>\n",
       "    <tr>\n",
       "      <th>1</th>\n",
       "      <td>672</td>\n",
       "      <td>135861</td>\n",
       "      <td>4.5</td>\n",
       "      <td>Ted 2 (2015)</td>\n",
       "      <td>Comedy</td>\n",
       "    </tr>\n",
       "    <tr>\n",
       "      <th>11</th>\n",
       "      <td>672</td>\n",
       "      <td>109673</td>\n",
       "      <td>4.5</td>\n",
       "      <td>300: Rise of an Empire (2014)</td>\n",
       "      <td>Action|Drama|War|IMAX</td>\n",
       "    </tr>\n",
       "    <tr>\n",
       "      <th>13</th>\n",
       "      <td>672</td>\n",
       "      <td>50189</td>\n",
       "      <td>4.0</td>\n",
       "      <td>American Pie Presents The Naked Mile (American...</td>\n",
       "      <td>Comedy|Romance</td>\n",
       "    </tr>\n",
       "    <tr>\n",
       "      <th>5</th>\n",
       "      <td>672</td>\n",
       "      <td>114662</td>\n",
       "      <td>4.0</td>\n",
       "      <td>American Sniper (2014)</td>\n",
       "      <td>Action|War</td>\n",
       "    </tr>\n",
       "  </tbody>\n",
       "</table>\n",
       "</div>"
      ],
      "text/plain": [
       "    userId  movieId  rating  \\\n",
       "20     672    68157     5.0   \n",
       "3      672   130634     5.0   \n",
       "9      672   112183     5.0   \n",
       "19     672    67923     4.5   \n",
       "4      672   116797     4.5   \n",
       "18     672    63515     4.5   \n",
       "1      672   135861     4.5   \n",
       "11     672   109673     4.5   \n",
       "13     672    50189     4.0   \n",
       "5      672   114662     4.0   \n",
       "\n",
       "                                                title  \\\n",
       "20                        Inglourious Basterds (2009)   \n",
       "3                                    Furious 7 (2015)   \n",
       "9   Birdman: Or (The Unexpected Virtue of Ignoranc...   \n",
       "19  Fast & Furious (Fast and the Furious 4, The) (...   \n",
       "4                           The Imitation Game (2014)   \n",
       "18                                  The Island (2006)   \n",
       "1                                        Ted 2 (2015)   \n",
       "11                      300: Rise of an Empire (2014)   \n",
       "13  American Pie Presents The Naked Mile (American...   \n",
       "5                              American Sniper (2014)   \n",
       "\n",
       "                         genres  \n",
       "20             Action|Drama|War  \n",
       "3         Action|Crime|Thriller  \n",
       "9                  Comedy|Drama  \n",
       "19  Action|Crime|Drama|Thriller  \n",
       "4            Drama|Thriller|War  \n",
       "18                Drama|Mystery  \n",
       "1                        Comedy  \n",
       "11        Action|Drama|War|IMAX  \n",
       "13               Comedy|Romance  \n",
       "5                    Action|War  "
      ]
     },
     "execution_count": 228,
     "metadata": {},
     "output_type": "execute_result"
    }
   ],
   "source": [
    "##Agora, vou criar um novo usuário, de id 672 (O próximo da lista)\n",
    "##A classificação do novo usuário será uma tabela onde a primeira coluna é o id 672, a segunda é o id do filme \n",
    "## e a terceira a nota. > [userId, movieId, rating]\n",
    "\n",
    "my_ratings= pd.DataFrame([[672, 1, 3.5 ], [672, 135861, 4.5], [672, 133824, 1], [672, 130634, 5], \n",
    "                          [672, 116797, 4.5], [672, 114662, 4], [672, 112897, 4], [672, 112497, 2],\n",
    "                          [672, 112370, 3.5], [672, 112183, 5], [672, 110553, 3.5], [672, 109673, 4.5],\n",
    "                          [672, 108932, 1], [672, 50189, 4], [672, 59784, 3.5], [672, 61123, 1], \n",
    "                          [672, 61160, 2], [672, 62999, 4], [672, 63515, 4.5], [672, 67923, 4.5],\n",
    "                          [672, 68157, 5]], columns=['userId','movieId','rating']\n",
    "                        ) \n",
    "\n",
    "print('Visualizando os filmes que gosto')\n",
    "## Join das minhas avaliações com o título do filme e os gêneros, somente para visualização\n",
    "my_ratings.merge(movies_df, how = 'left', left_on = 'movieId', right_on = 'movieId').sort_values(by=['rating'], ascending=False).head(10)"
   ]
  },
  {
   "cell_type": "code",
   "execution_count": 229,
   "metadata": {
    "collapsed": false
   },
   "outputs": [
    {
     "name": "stdout",
     "output_type": "stream",
     "text": [
      "<class 'pandas.core.frame.DataFrame'>\n",
      "RangeIndex: 21 entries, 0 to 20\n",
      "Data columns (total 3 columns):\n",
      "userId     21 non-null int64\n",
      "movieId    21 non-null int64\n",
      "rating     21 non-null float64\n",
      "dtypes: float64(1), int64(2)\n",
      "memory usage: 584.0 bytes\n"
     ]
    }
   ],
   "source": [
    "my_ratings.info()"
   ]
  },
  {
   "cell_type": "markdown",
   "metadata": {},
   "source": [
    "Une os datasets"
   ]
  },
  {
   "cell_type": "code",
   "execution_count": 230,
   "metadata": {
    "collapsed": false,
    "scrolled": true
   },
   "outputs": [
    {
     "data": {
      "text/html": [
       "<div>\n",
       "<table border=\"1\" class=\"dataframe\">\n",
       "  <thead>\n",
       "    <tr style=\"text-align: right;\">\n",
       "      <th></th>\n",
       "      <th>userId</th>\n",
       "      <th>movieId</th>\n",
       "      <th>rating</th>\n",
       "    </tr>\n",
       "  </thead>\n",
       "  <tbody>\n",
       "    <tr>\n",
       "      <th>0</th>\n",
       "      <td>672</td>\n",
       "      <td>1</td>\n",
       "      <td>3.5</td>\n",
       "    </tr>\n",
       "    <tr>\n",
       "      <th>1</th>\n",
       "      <td>672</td>\n",
       "      <td>135861</td>\n",
       "      <td>4.5</td>\n",
       "    </tr>\n",
       "    <tr>\n",
       "      <th>2</th>\n",
       "      <td>672</td>\n",
       "      <td>133824</td>\n",
       "      <td>1.0</td>\n",
       "    </tr>\n",
       "    <tr>\n",
       "      <th>3</th>\n",
       "      <td>672</td>\n",
       "      <td>130634</td>\n",
       "      <td>5.0</td>\n",
       "    </tr>\n",
       "    <tr>\n",
       "      <th>4</th>\n",
       "      <td>672</td>\n",
       "      <td>116797</td>\n",
       "      <td>4.5</td>\n",
       "    </tr>\n",
       "    <tr>\n",
       "      <th>5</th>\n",
       "      <td>672</td>\n",
       "      <td>114662</td>\n",
       "      <td>4.0</td>\n",
       "    </tr>\n",
       "    <tr>\n",
       "      <th>6</th>\n",
       "      <td>672</td>\n",
       "      <td>112897</td>\n",
       "      <td>4.0</td>\n",
       "    </tr>\n",
       "    <tr>\n",
       "      <th>7</th>\n",
       "      <td>672</td>\n",
       "      <td>112497</td>\n",
       "      <td>2.0</td>\n",
       "    </tr>\n",
       "    <tr>\n",
       "      <th>8</th>\n",
       "      <td>672</td>\n",
       "      <td>112370</td>\n",
       "      <td>3.5</td>\n",
       "    </tr>\n",
       "    <tr>\n",
       "      <th>9</th>\n",
       "      <td>672</td>\n",
       "      <td>112183</td>\n",
       "      <td>5.0</td>\n",
       "    </tr>\n",
       "    <tr>\n",
       "      <th>10</th>\n",
       "      <td>672</td>\n",
       "      <td>110553</td>\n",
       "      <td>3.5</td>\n",
       "    </tr>\n",
       "    <tr>\n",
       "      <th>11</th>\n",
       "      <td>672</td>\n",
       "      <td>109673</td>\n",
       "      <td>4.5</td>\n",
       "    </tr>\n",
       "    <tr>\n",
       "      <th>12</th>\n",
       "      <td>672</td>\n",
       "      <td>108932</td>\n",
       "      <td>1.0</td>\n",
       "    </tr>\n",
       "    <tr>\n",
       "      <th>13</th>\n",
       "      <td>672</td>\n",
       "      <td>50189</td>\n",
       "      <td>4.0</td>\n",
       "    </tr>\n",
       "    <tr>\n",
       "      <th>14</th>\n",
       "      <td>672</td>\n",
       "      <td>59784</td>\n",
       "      <td>3.5</td>\n",
       "    </tr>\n",
       "    <tr>\n",
       "      <th>15</th>\n",
       "      <td>672</td>\n",
       "      <td>61123</td>\n",
       "      <td>1.0</td>\n",
       "    </tr>\n",
       "    <tr>\n",
       "      <th>16</th>\n",
       "      <td>672</td>\n",
       "      <td>61160</td>\n",
       "      <td>2.0</td>\n",
       "    </tr>\n",
       "    <tr>\n",
       "      <th>17</th>\n",
       "      <td>672</td>\n",
       "      <td>62999</td>\n",
       "      <td>4.0</td>\n",
       "    </tr>\n",
       "    <tr>\n",
       "      <th>18</th>\n",
       "      <td>672</td>\n",
       "      <td>63515</td>\n",
       "      <td>4.5</td>\n",
       "    </tr>\n",
       "    <tr>\n",
       "      <th>19</th>\n",
       "      <td>672</td>\n",
       "      <td>67923</td>\n",
       "      <td>4.5</td>\n",
       "    </tr>\n",
       "    <tr>\n",
       "      <th>20</th>\n",
       "      <td>672</td>\n",
       "      <td>68157</td>\n",
       "      <td>5.0</td>\n",
       "    </tr>\n",
       "  </tbody>\n",
       "</table>\n",
       "</div>"
      ],
      "text/plain": [
       "    userId  movieId  rating\n",
       "0      672        1     3.5\n",
       "1      672   135861     4.5\n",
       "2      672   133824     1.0\n",
       "3      672   130634     5.0\n",
       "4      672   116797     4.5\n",
       "5      672   114662     4.0\n",
       "6      672   112897     4.0\n",
       "7      672   112497     2.0\n",
       "8      672   112370     3.5\n",
       "9      672   112183     5.0\n",
       "10     672   110553     3.5\n",
       "11     672   109673     4.5\n",
       "12     672   108932     1.0\n",
       "13     672    50189     4.0\n",
       "14     672    59784     3.5\n",
       "15     672    61123     1.0\n",
       "16     672    61160     2.0\n",
       "17     672    62999     4.0\n",
       "18     672    63515     4.5\n",
       "19     672    67923     4.5\n",
       "20     672    68157     5.0"
      ]
     },
     "execution_count": 230,
     "metadata": {},
     "output_type": "execute_result"
    }
   ],
   "source": [
    "ratings_df = ratings_df.append(my_ratings)\n",
    "ratings_df[ratings_df['userId'] == 672]"
   ]
  },
  {
   "cell_type": "markdown",
   "metadata": {},
   "source": [
    "## Matriz de Users x Filmes, com os valores das notas dadas"
   ]
  },
  {
   "cell_type": "code",
   "execution_count": 231,
   "metadata": {
    "collapsed": false,
    "scrolled": true
   },
   "outputs": [
    {
     "data": {
      "text/html": [
       "<div>\n",
       "<table border=\"1\" class=\"dataframe\">\n",
       "  <thead>\n",
       "    <tr style=\"text-align: right;\">\n",
       "      <th>movieId</th>\n",
       "      <th>1</th>\n",
       "      <th>2</th>\n",
       "      <th>3</th>\n",
       "      <th>4</th>\n",
       "      <th>5</th>\n",
       "      <th>6</th>\n",
       "      <th>7</th>\n",
       "      <th>8</th>\n",
       "      <th>9</th>\n",
       "      <th>10</th>\n",
       "      <th>...</th>\n",
       "      <th>161084</th>\n",
       "      <th>161155</th>\n",
       "      <th>161594</th>\n",
       "      <th>161830</th>\n",
       "      <th>161918</th>\n",
       "      <th>161944</th>\n",
       "      <th>162376</th>\n",
       "      <th>162542</th>\n",
       "      <th>162672</th>\n",
       "      <th>163949</th>\n",
       "    </tr>\n",
       "    <tr>\n",
       "      <th>userId</th>\n",
       "      <th></th>\n",
       "      <th></th>\n",
       "      <th></th>\n",
       "      <th></th>\n",
       "      <th></th>\n",
       "      <th></th>\n",
       "      <th></th>\n",
       "      <th></th>\n",
       "      <th></th>\n",
       "      <th></th>\n",
       "      <th></th>\n",
       "      <th></th>\n",
       "      <th></th>\n",
       "      <th></th>\n",
       "      <th></th>\n",
       "      <th></th>\n",
       "      <th></th>\n",
       "      <th></th>\n",
       "      <th></th>\n",
       "      <th></th>\n",
       "      <th></th>\n",
       "    </tr>\n",
       "  </thead>\n",
       "  <tbody>\n",
       "    <tr>\n",
       "      <th>668</th>\n",
       "      <td>0.0</td>\n",
       "      <td>0.0</td>\n",
       "      <td>0.0</td>\n",
       "      <td>0.0</td>\n",
       "      <td>0.0</td>\n",
       "      <td>0.0</td>\n",
       "      <td>0.0</td>\n",
       "      <td>0.0</td>\n",
       "      <td>0.0</td>\n",
       "      <td>0.0</td>\n",
       "      <td>...</td>\n",
       "      <td>0.0</td>\n",
       "      <td>0.0</td>\n",
       "      <td>0.0</td>\n",
       "      <td>0.0</td>\n",
       "      <td>0.0</td>\n",
       "      <td>0.0</td>\n",
       "      <td>0.0</td>\n",
       "      <td>0.0</td>\n",
       "      <td>0.0</td>\n",
       "      <td>0.0</td>\n",
       "    </tr>\n",
       "    <tr>\n",
       "      <th>669</th>\n",
       "      <td>0.0</td>\n",
       "      <td>0.0</td>\n",
       "      <td>0.0</td>\n",
       "      <td>0.0</td>\n",
       "      <td>0.0</td>\n",
       "      <td>0.0</td>\n",
       "      <td>0.0</td>\n",
       "      <td>0.0</td>\n",
       "      <td>0.0</td>\n",
       "      <td>0.0</td>\n",
       "      <td>...</td>\n",
       "      <td>0.0</td>\n",
       "      <td>0.0</td>\n",
       "      <td>0.0</td>\n",
       "      <td>0.0</td>\n",
       "      <td>0.0</td>\n",
       "      <td>0.0</td>\n",
       "      <td>0.0</td>\n",
       "      <td>0.0</td>\n",
       "      <td>0.0</td>\n",
       "      <td>0.0</td>\n",
       "    </tr>\n",
       "    <tr>\n",
       "      <th>670</th>\n",
       "      <td>4.0</td>\n",
       "      <td>0.0</td>\n",
       "      <td>0.0</td>\n",
       "      <td>0.0</td>\n",
       "      <td>0.0</td>\n",
       "      <td>0.0</td>\n",
       "      <td>0.0</td>\n",
       "      <td>0.0</td>\n",
       "      <td>0.0</td>\n",
       "      <td>0.0</td>\n",
       "      <td>...</td>\n",
       "      <td>0.0</td>\n",
       "      <td>0.0</td>\n",
       "      <td>0.0</td>\n",
       "      <td>0.0</td>\n",
       "      <td>0.0</td>\n",
       "      <td>0.0</td>\n",
       "      <td>0.0</td>\n",
       "      <td>0.0</td>\n",
       "      <td>0.0</td>\n",
       "      <td>0.0</td>\n",
       "    </tr>\n",
       "    <tr>\n",
       "      <th>671</th>\n",
       "      <td>5.0</td>\n",
       "      <td>0.0</td>\n",
       "      <td>0.0</td>\n",
       "      <td>0.0</td>\n",
       "      <td>0.0</td>\n",
       "      <td>0.0</td>\n",
       "      <td>0.0</td>\n",
       "      <td>0.0</td>\n",
       "      <td>0.0</td>\n",
       "      <td>0.0</td>\n",
       "      <td>...</td>\n",
       "      <td>0.0</td>\n",
       "      <td>0.0</td>\n",
       "      <td>0.0</td>\n",
       "      <td>0.0</td>\n",
       "      <td>0.0</td>\n",
       "      <td>0.0</td>\n",
       "      <td>0.0</td>\n",
       "      <td>0.0</td>\n",
       "      <td>0.0</td>\n",
       "      <td>0.0</td>\n",
       "    </tr>\n",
       "    <tr>\n",
       "      <th>672</th>\n",
       "      <td>3.5</td>\n",
       "      <td>0.0</td>\n",
       "      <td>0.0</td>\n",
       "      <td>0.0</td>\n",
       "      <td>0.0</td>\n",
       "      <td>0.0</td>\n",
       "      <td>0.0</td>\n",
       "      <td>0.0</td>\n",
       "      <td>0.0</td>\n",
       "      <td>0.0</td>\n",
       "      <td>...</td>\n",
       "      <td>0.0</td>\n",
       "      <td>0.0</td>\n",
       "      <td>0.0</td>\n",
       "      <td>0.0</td>\n",
       "      <td>0.0</td>\n",
       "      <td>0.0</td>\n",
       "      <td>0.0</td>\n",
       "      <td>0.0</td>\n",
       "      <td>0.0</td>\n",
       "      <td>0.0</td>\n",
       "    </tr>\n",
       "  </tbody>\n",
       "</table>\n",
       "<p>5 rows × 8909 columns</p>\n",
       "</div>"
      ],
      "text/plain": [
       "movieId  1       2       3       4       5       6       7       8       \\\n",
       "userId                                                                    \n",
       "668         0.0     0.0     0.0     0.0     0.0     0.0     0.0     0.0   \n",
       "669         0.0     0.0     0.0     0.0     0.0     0.0     0.0     0.0   \n",
       "670         4.0     0.0     0.0     0.0     0.0     0.0     0.0     0.0   \n",
       "671         5.0     0.0     0.0     0.0     0.0     0.0     0.0     0.0   \n",
       "672         3.5     0.0     0.0     0.0     0.0     0.0     0.0     0.0   \n",
       "\n",
       "movieId  9       10       ...    161084  161155  161594  161830  161918  \\\n",
       "userId                    ...                                             \n",
       "668         0.0     0.0   ...       0.0     0.0     0.0     0.0     0.0   \n",
       "669         0.0     0.0   ...       0.0     0.0     0.0     0.0     0.0   \n",
       "670         0.0     0.0   ...       0.0     0.0     0.0     0.0     0.0   \n",
       "671         0.0     0.0   ...       0.0     0.0     0.0     0.0     0.0   \n",
       "672         0.0     0.0   ...       0.0     0.0     0.0     0.0     0.0   \n",
       "\n",
       "movieId  161944  162376  162542  162672  163949  \n",
       "userId                                           \n",
       "668         0.0     0.0     0.0     0.0     0.0  \n",
       "669         0.0     0.0     0.0     0.0     0.0  \n",
       "670         0.0     0.0     0.0     0.0     0.0  \n",
       "671         0.0     0.0     0.0     0.0     0.0  \n",
       "672         0.0     0.0     0.0     0.0     0.0  \n",
       "\n",
       "[5 rows x 8909 columns]"
      ]
     },
     "execution_count": 231,
     "metadata": {},
     "output_type": "execute_result"
    }
   ],
   "source": [
    "R_df = ratings_df.pivot(index = 'userId', columns ='movieId', values = 'rating').fillna(0)\n",
    "R_df[-5:]"
   ]
  },
  {
   "cell_type": "markdown",
   "metadata": {},
   "source": [
    "### Visualização de algumas informações importantes"
   ]
  },
  {
   "cell_type": "markdown",
   "metadata": {},
   "source": [
    "Entradas não nulas da matriz"
   ]
  },
  {
   "cell_type": "code",
   "execution_count": 232,
   "metadata": {
    "collapsed": false
   },
   "outputs": [
    {
     "name": "stdout",
     "output_type": "stream",
     "text": [
      "% entradas não nulas: 1.5872 %\n"
     ]
    }
   ],
   "source": [
    "print('% entradas não nulas: {:0.4f} %'.format(100*(np.count_nonzero(R_df>0.0)/(R_df.shape[0]*R_df.shape[1]))) )"
   ]
  },
  {
   "cell_type": "code",
   "execution_count": 233,
   "metadata": {
    "collapsed": false
   },
   "outputs": [
    {
     "data": {
      "image/png": "[encoded data removed]",
      "text/plain": [
       "<matplotlib.figure.Figure at 0x7fc9fe748518>"
      ]
     },
     "metadata": {},
     "output_type": "display_data"
    }
   ],
   "source": [
    "R_df[R_df>0.0].count(axis = 0).sort_values(ascending= False)[:30].plot(figsize=(15,5), kind='bar', title='Quantidade de ratings por filme (top 30)');"
   ]
  },
  {
   "cell_type": "code",
   "execution_count": 234,
   "metadata": {
    "collapsed": false,
    "scrolled": false
   },
   "outputs": [
    {
     "data": {
      "image/png": "[encoded data removed]",
      "text/plain": [
       "<matplotlib.figure.Figure at 0x7fc9fe39afd0>"
      ]
     },
     "metadata": {},
     "output_type": "display_data"
    }
   ],
   "source": [
    "R_df[R_df>0.0].count(axis = 1).sort_values(ascending= False)[:30].plot(figsize=(15,5), kind='bar', title='Quantidade de ratings por usuário (top 30)');"
   ]
  },
  {
   "cell_type": "code",
   "execution_count": 235,
   "metadata": {
    "collapsed": false,
    "scrolled": false
   },
   "outputs": [
    {
     "data": {
      "image/png": "[encoded data removed]",
      "text/plain": [
       "<matplotlib.figure.Figure at 0x7fc9fe380400>"
      ]
     },
     "metadata": {},
     "output_type": "display_data"
    }
   ],
   "source": [
    "R_df[R_df>0.0].mean(axis = 1).sort_values(ascending= False).plot(figsize=(17,4), kind='bar', title='Nota Média de cada usuário (geral)');"
   ]
  },
  {
   "cell_type": "markdown",
   "metadata": {},
   "source": [
    "# Modelo: Algoritmo SVD"
   ]
  },
  {
   "cell_type": "markdown",
   "metadata": {},
   "source": [
    "Substitui os valores nulos por 0 e transforma a matriz de reviews em uma matriz com uma diferença da média do usuário\n"
   ]
  },
  {
   "cell_type": "code",
   "execution_count": 236,
   "metadata": {
    "collapsed": false
   },
   "outputs": [
    {
     "data": {
      "text/plain": [
       "((672, 8909), array([[ 0. ,  0. ,  0. , ...,  0. ,  0. ,  0. ],\n",
       "        [ 0. ,  0. ,  0. , ...,  0. ,  0. ,  0. ],\n",
       "        [ 0. ,  0. ,  0. , ...,  0. ,  0. ,  0. ],\n",
       "        ..., \n",
       "        [ 4. ,  0. ,  0. , ...,  0. ,  0. ,  0. ],\n",
       "        [ 5. ,  0. ,  0. , ...,  0. ,  0. ,  0. ],\n",
       "        [ 3.5,  0. ,  0. , ...,  0. ,  0. ,  0. ]]))"
      ]
     },
     "execution_count": 236,
     "metadata": {},
     "output_type": "execute_result"
    }
   ],
   "source": [
    "R = R_df.as_matrix()\n",
    "R.shape, R"
   ]
  },
  {
   "cell_type": "code",
   "execution_count": 237,
   "metadata": {
    "collapsed": false,
    "scrolled": true
   },
   "outputs": [
    {
     "data": {
      "text/plain": [
       "(array([ 0.00572455,  0.02895948,  0.01863284,  0.09529689,  0.0433831 ,\n",
       "         0.01498485,  0.03187788,  0.04669435,  0.01896958,  0.01784712,\n",
       "         0.01616343,  0.01616343,  0.02042878,  0.00639802,  0.46980581,\n",
       "         0.01245931,  0.14249635,  0.01818386,  0.16006286,  0.03490852,\n",
       "         0.06162308,  0.0787406 ,  0.27982939,  0.00864295,  0.00886744,\n",
       "         0.06291391,  0.00931642,  0.02357167,  0.00645415,  0.40649905,\n",
       "         0.03086766,  0.0170614 ,  0.04669435,  0.07890897,  0.00510719,\n",
       "         0.0411943 ,  0.01425525,  0.0509597 ,  0.02491862,  0.02020429,\n",
       "         0.08418453,  0.02845437,  0.03546975,  0.00909193,  0.00847458,\n",
       "         0.01784712,  0.0156022 ,  0.1928387 ,  0.03479627,  0.01694915,\n",
       "         0.01335728,  0.0268268 ,  0.01436749,  0.01762263,  0.014143  ,\n",
       "         0.20069593,  0.08934785,  0.0270513 ,  0.02643394,  0.02441351,\n",
       "         0.05926591,  0.02312268,  0.03816365,  0.00897968,  0.01156134,\n",
       "         0.02155124,  0.04040858,  0.04703109,  0.03518913,  0.03524526,\n",
       "         0.00965316,  0.06785273,  0.57868448,  0.02042878,  0.05196992,\n",
       "         0.0085307 ,  0.11320013,  0.12206757,  0.01498485,  0.01436749,\n",
       "         0.06588843,  0.01515322,  0.06745987,  0.04467393,  0.03726569,\n",
       "         0.07329667,  0.0114491 ,  0.0894601 ,  0.03142889,  0.02042878,\n",
       "         0.06470984,  0.04220451,  0.06392412,  0.07127624,  0.12369514,\n",
       "         0.03372994,  0.04158716,  0.03170951,  0.06734763,  0.00954091,\n",
       "         0.02216859,  0.28633966,  0.03457178,  0.03126052,  0.18924683,\n",
       "         0.01941857,  0.01021439,  0.01010214,  0.00970928,  0.05320462,\n",
       "         0.12723089,  0.00909193,  0.01290829,  0.0114491 ,  0.01784712,\n",
       "         0.01094399,  0.02301044,  0.08115389,  0.23897183,  0.05011786,\n",
       "         0.03457178,  0.01279605,  0.01346953,  0.03502077,  0.09007745,\n",
       "         0.02525536,  0.00909193,  0.13447076,  0.00897968,  0.1318891 ,\n",
       "         0.01683691,  0.04304636,  0.04568414,  0.13194522,  0.00617353,\n",
       "         0.02003592,  0.03131665,  0.02721967,  0.02660231,  0.01739814,\n",
       "         0.01111236,  0.01784712,  0.03013806,  0.01526546,  0.01829611,\n",
       "         0.02772477,  0.01734201,  0.05556179,  0.08440902,  0.13548097,\n",
       "         0.02480638,  0.07868448,  0.02256145,  0.01032664,  0.02009204,\n",
       "         0.01807161,  0.11813896,  0.00701538,  0.05746997,  0.04063307,\n",
       "         0.03300034,  0.0112246 ,  0.02671456,  0.03064317,  0.14810865,\n",
       "         0.02099001,  0.01055113,  0.04141879,  0.04983724,  0.00662252,\n",
       "         0.02099001,  0.00931642,  0.01571445,  0.00723987,  0.05107195,\n",
       "         0.07924571,  0.0965316 ,  0.04916377,  0.01666854,  0.0085307 ,\n",
       "         0.01212257,  0.05567404,  0.01840835,  0.01661241,  0.07958244,\n",
       "         0.01532158,  0.1291952 ,  0.0397351 ,  0.04916377,  0.02649007,\n",
       "         0.00931642,  0.01896958,  0.03053092,  0.01773487,  0.15411382,\n",
       "         0.03850039,  0.02772477,  0.02794926,  0.16062409,  0.08889887,\n",
       "         0.05382198,  0.03030643,  0.0156022 ,  0.0112246 ,  0.07374565,\n",
       "         0.01492872,  0.00914805,  0.02054103,  0.0056123 ,  0.01015827,\n",
       "         0.02514311,  0.29122236,  0.25704344,  0.09383769,  0.02188798,\n",
       "         0.03782692,  0.04759232,  0.01795937,  0.05253115,  0.10831743,\n",
       "         0.00622966,  0.03704119,  0.01470423,  0.03951061,  0.01290829,\n",
       "         0.01229094,  0.01032664,  0.02536761,  0.01464811,  0.04422494,\n",
       "         0.01358177,  0.29116624,  0.01201033,  0.04557189,  0.07060276,\n",
       "         0.09439892,  0.01470423,  0.0360871 ,  0.11426647,  0.09535301,\n",
       "         0.01986755,  0.18992031,  0.11117971,  0.02806151,  0.05174543,\n",
       "         0.01055113,  0.10584802,  0.04377596,  0.00774498,  0.07223033,\n",
       "         0.05561791,  0.01537771,  0.08003143,  0.05185767,  0.05791896,\n",
       "         0.00718375,  0.04035245,  0.01447974,  0.01077562,  0.0170614 ,\n",
       "         0.0190257 ,  0.19154787,  0.03889325,  0.01436749,  0.07744977,\n",
       "         0.0156022 ,  0.01835223,  0.15400157,  0.00942867,  0.08822539,\n",
       "         0.02710742,  0.01543383,  0.04181165,  0.01492872,  0.09282748,\n",
       "         0.00679089,  0.02491862,  0.01986755,  0.01863284,  0.00931642,\n",
       "         0.03507689,  0.0489954 ,  0.07318442,  0.01896958,  0.14547087,\n",
       "         0.01324503,  0.12246043,  0.03008194,  0.00735212,  0.02985745,\n",
       "         0.03917387,  0.11673589,  0.02884723,  0.35761589,  0.09900101,\n",
       "         0.0078011 ,  0.05247503,  0.03771467,  0.1611292 ,  0.01829611,\n",
       "         0.00841845,  0.0114491 ,  0.08732742,  0.04585251,  0.00796947,\n",
       "         0.23324728,  0.03210237,  0.02177573,  0.05859243,  0.00538781,\n",
       "         0.32590639,  0.10158267,  0.11392973,  0.01644405,  0.01313279,\n",
       "         0.05253115,  0.00841845,  0.02065327,  0.00718375,  0.02418902,\n",
       "         0.02929622,  0.01773487,  0.00931642,  0.05511281,  0.00398473,\n",
       "         0.01043888,  0.0270513 ,  0.06016388,  0.00897968,  0.03513301,\n",
       "         0.00881131,  0.0112246 ,  0.03659221,  0.01324503,  0.00881131,\n",
       "         0.01189808,  0.00606129,  0.02132675,  0.04130654,  0.01644405,\n",
       "         0.00808172,  0.08586822,  0.01717364,  0.07004153,  0.08513862,\n",
       "         0.12246043,  0.00903581,  0.01953081,  0.00886744,  0.06858233,\n",
       "         0.01650017,  0.03395443,  0.14204737,  0.02222472,  0.11656752,\n",
       "         0.00673476,  0.01403076,  0.20900213,  0.01823998,  0.014143  ,\n",
       "         0.02671456,  0.04871478,  0.08059266,  0.01223482,  0.03159726,\n",
       "         0.01206645,  0.07570996,  0.00875519,  0.01964306,  0.04405657,\n",
       "         0.06336289,  0.01335728,  0.08137838,  0.01201033,  0.0099899 ,\n",
       "         0.02379616,  0.00903581,  0.05140869,  0.02811763,  0.3844427 ,\n",
       "         0.03591873,  0.10197553,  0.02200022,  0.16668537,  0.0368167 ,\n",
       "         0.03816365,  0.12234819,  0.31238074,  0.01941857,  0.05264339,\n",
       "         0.04523516,  0.00808172,  0.0170614 ,  0.06173532,  0.00796947,\n",
       "         0.049725  ,  0.0219441 ,  0.02188798,  0.0070715 ,  0.02256145,\n",
       "         0.03221461,  0.1262768 ,  0.01066337,  0.0156022 ,  0.15562914,\n",
       "         0.03165338,  0.14726681,  0.08721518,  0.0226737 ,  0.0121787 ,\n",
       "         0.01077562,  0.06959255,  0.00886744,  0.02323493,  0.00942867,\n",
       "         0.03647996,  0.05668425,  0.06588843,  0.0197553 ,  0.03928612,\n",
       "         0.01526546,  0.03569424,  0.13362891,  0.01094399,  0.0204849 ,\n",
       "         0.08850601,  0.12111348,  0.06515883,  0.00606129,  0.12852172,\n",
       "         0.11976653,  0.02794926,  0.08250084,  0.07408239,  0.01088787,\n",
       "         0.0270513 ,  0.0085307 ,  0.00892356,  0.08642945,  0.01605118,\n",
       "         0.04663823,  0.10242451,  0.02009204,  0.00695925,  0.00673476,\n",
       "         0.01245931,  0.02783702,  0.01066337,  0.01156134,  0.05640364,\n",
       "         0.02076552,  0.45599955,  0.03221461,  0.01307666,  0.01240319,\n",
       "         0.02716354,  0.19104277,  0.03036255,  0.00976541,  0.11499607,\n",
       "         0.21130318,  0.01711752,  0.1745426 ,  0.01369402,  0.01616343,\n",
       "         0.08732742,  0.02615333,  0.40807049,  0.00791335,  0.02357167,\n",
       "         0.08390392,  0.33213604,  0.03429117,  0.01818386,  0.1928387 ,\n",
       "         0.01515322,  0.00695925,  0.03356157,  0.04091368,  0.16191492,\n",
       "         0.18919071,  0.02390841,  0.04439331,  0.00830621,  0.0078011 ,\n",
       "         0.05410259,  0.06117409,  0.02385228,  0.00987765,  0.00875519,\n",
       "         0.02301044,  0.028286  ,  0.04029633,  0.0346279 ,  0.01111236,\n",
       "         0.05140869,  0.0426535 ,  0.00572455,  0.01537771,  0.07986306,\n",
       "         0.08541924,  0.04669435,  0.01751038,  0.00729599,  0.13828713,\n",
       "         0.00740824,  0.01369402,  0.01829611,  0.33264115,  0.05634751,\n",
       "         0.01403076,  0.01285217,  0.00942867,  0.1447974 ,  0.01498485,\n",
       "         0.05477607,  0.01941857,  0.27028847,  0.07677629,  0.0560669 ,\n",
       "         0.01964306,  0.08384779,  0.05421484,  0.02643394,  0.05129644,\n",
       "         0.0119542 ,  0.04512291,  0.046077  ,  0.2276911 ,  0.03142889,\n",
       "         0.0426535 ,  0.02026041,  0.05982714,  0.11909305,  0.02076552,\n",
       "         0.04489842,  0.13020541,  0.01010214,  0.01167359,  0.00830621,\n",
       "         0.01021439,  0.02531148,  0.02188798,  0.12616455,  0.03872488,\n",
       "         0.02985745,  0.86165675,  0.04950051,  0.00763273,  0.05208216,\n",
       "         0.03176563,  0.01156134,  0.08598047,  0.02211247,  0.02592884,\n",
       "         0.0112246 ,  0.01941857,  0.10113369,  0.06083736,  0.04310248,\n",
       "         0.1140981 ,  0.10904703,  0.06572006,  0.70984398,  0.01032664,\n",
       "         0.01088787,  0.01644405,  0.01605118,  0.03636772,  0.05129644,\n",
       "         0.02228084,  0.04198002,  0.01481648,  0.12975643,  0.19833876,\n",
       "         0.0156022 ,  0.13003704,  0.01032664,  0.00286227,  0.32338085,\n",
       "         0.00791335,  0.05449545,  0.00875519,  0.07632731,  0.13581771,\n",
       "         0.02065327,  0.21641037,  0.01896958,  0.01537771,  0.03255135,\n",
       "         0.01010214,  0.05477607,  0.02963296,  0.03367381,  0.06970479,\n",
       "         0.18896621,  0.0865417 ,  0.11651139,  0.08154675,  0.01453586,\n",
       "         0.01784712,  0.05073521,  0.04804131,  0.0063419 ,  0.14232798,\n",
       "         0.02671456,  0.16662925,  0.12111348,  0.0297452 ,  0.02980132,\n",
       "         0.01442362,  0.02536761,  0.02177573,  0.0397351 ,  0.1496801 ,\n",
       "         0.0156022 ,  0.02424515,  0.01391851,  0.01694915,  0.05500056,\n",
       "         0.03878101,  0.01588282,  0.04517903,  0.53479627,  0.03025031,\n",
       "         0.05455158,  0.06616904,  0.02834213,  0.01313279,  0.01010214,\n",
       "         0.01290829,  0.01734201,  0.0112246 ,  0.00712762,  0.00858682,\n",
       "         0.0114491 ,  0.01161747,  0.00673476,  0.0197553 ,  0.01930632,\n",
       "         0.05881693,  0.01459199,  0.00892356,  0.0156022 ,  0.01240319,\n",
       "         0.07520485,  0.06745987,  0.09984286,  0.03401055,  0.01021439,\n",
       "         0.00796947,  0.12004714,  0.02188798,  0.27315075,  0.04669435,\n",
       "         0.063868  ,  0.00785722,  0.02817376,  0.05219441,  0.04175553,\n",
       "         0.0134134 ,  0.02177573,  0.01088787,  0.20754293,  0.15523628,\n",
       "         0.01223482,  0.0255921 ,  0.00830621,  0.01346953,  0.01290829,\n",
       "         0.04860254,  0.00836233]), (672,))"
      ]
     },
     "execution_count": 237,
     "metadata": {},
     "output_type": "execute_result"
    }
   ],
   "source": [
    "user_ratings_mean = np.mean(R, axis=1)\n",
    "user_ratings_mean, user_ratings_mean.shape"
   ]
  },
  {
   "cell_type": "code",
   "execution_count": 238,
   "metadata": {
    "collapsed": false
   },
   "outputs": [
    {
     "data": {
      "text/plain": [
       "(array([[-0.00572455, -0.00572455, -0.00572455, ..., -0.00572455,\n",
       "         -0.00572455, -0.00572455],\n",
       "        [-0.02895948, -0.02895948, -0.02895948, ..., -0.02895948,\n",
       "         -0.02895948, -0.02895948],\n",
       "        [-0.01863284, -0.01863284, -0.01863284, ..., -0.01863284,\n",
       "         -0.01863284, -0.01863284],\n",
       "        ..., \n",
       "        [ 3.98709171, -0.01290829, -0.01290829, ..., -0.01290829,\n",
       "         -0.01290829, -0.01290829],\n",
       "        [ 4.95139746, -0.04860254, -0.04860254, ..., -0.04860254,\n",
       "         -0.04860254, -0.04860254],\n",
       "        [ 3.49163767, -0.00836233, -0.00836233, ..., -0.00836233,\n",
       "         -0.00836233, -0.00836233]]), (672, 8909))"
      ]
     },
     "execution_count": 238,
     "metadata": {},
     "output_type": "execute_result"
    }
   ],
   "source": [
    "R_demeaned = R - user_ratings_mean.reshape(-1, 1)\n",
    "R_demeaned, R_demeaned.shape"
   ]
  },
  {
   "cell_type": "markdown",
   "metadata": {},
   "source": [
    "### Aplica a transformação SVD"
   ]
  },
  {
   "cell_type": "code",
   "execution_count": 239,
   "metadata": {
    "collapsed": true
   },
   "outputs": [],
   "source": [
    "U, sigma, Vt = svds(R_demeaned, k = 80)\n",
    "\n",
    "sigma = np.diag(sigma)"
   ]
  },
  {
   "cell_type": "markdown",
   "metadata": {},
   "source": [
    "#### Reconstroi a matrix de ratings"
   ]
  },
  {
   "cell_type": "code",
   "execution_count": 240,
   "metadata": {
    "collapsed": false
   },
   "outputs": [
    {
     "data": {
      "text/html": [
       "<div>\n",
       "<table border=\"1\" class=\"dataframe\">\n",
       "  <thead>\n",
       "    <tr style=\"text-align: right;\">\n",
       "      <th>movieId</th>\n",
       "      <th>1</th>\n",
       "      <th>2</th>\n",
       "      <th>3</th>\n",
       "      <th>4</th>\n",
       "      <th>5</th>\n",
       "      <th>6</th>\n",
       "      <th>7</th>\n",
       "      <th>8</th>\n",
       "      <th>9</th>\n",
       "      <th>10</th>\n",
       "      <th>...</th>\n",
       "      <th>161084</th>\n",
       "      <th>161155</th>\n",
       "      <th>161594</th>\n",
       "      <th>161830</th>\n",
       "      <th>161918</th>\n",
       "      <th>161944</th>\n",
       "      <th>162376</th>\n",
       "      <th>162542</th>\n",
       "      <th>162672</th>\n",
       "      <th>163949</th>\n",
       "    </tr>\n",
       "  </thead>\n",
       "  <tbody>\n",
       "    <tr>\n",
       "      <th>667</th>\n",
       "      <td>0.523202</td>\n",
       "      <td>-0.207267</td>\n",
       "      <td>-0.188100</td>\n",
       "      <td>-0.038132</td>\n",
       "      <td>-0.151641</td>\n",
       "      <td>0.065063</td>\n",
       "      <td>-0.158715</td>\n",
       "      <td>-0.064674</td>\n",
       "      <td>-0.059562</td>\n",
       "      <td>-0.147283</td>\n",
       "      <td>...</td>\n",
       "      <td>0.001405</td>\n",
       "      <td>0.000745</td>\n",
       "      <td>0.001249</td>\n",
       "      <td>0.004030</td>\n",
       "      <td>0.005581</td>\n",
       "      <td>-0.005829</td>\n",
       "      <td>0.001409</td>\n",
       "      <td>-0.004255</td>\n",
       "      <td>-0.002181</td>\n",
       "      <td>0.001881</td>\n",
       "    </tr>\n",
       "    <tr>\n",
       "      <th>668</th>\n",
       "      <td>0.633334</td>\n",
       "      <td>-0.174872</td>\n",
       "      <td>0.273468</td>\n",
       "      <td>0.010332</td>\n",
       "      <td>-0.035582</td>\n",
       "      <td>0.257017</td>\n",
       "      <td>0.070778</td>\n",
       "      <td>0.015411</td>\n",
       "      <td>0.231517</td>\n",
       "      <td>-0.087814</td>\n",
       "      <td>...</td>\n",
       "      <td>-0.002709</td>\n",
       "      <td>-0.002255</td>\n",
       "      <td>-0.001285</td>\n",
       "      <td>-0.003510</td>\n",
       "      <td>-0.004072</td>\n",
       "      <td>-0.071177</td>\n",
       "      <td>-0.000734</td>\n",
       "      <td>-0.001034</td>\n",
       "      <td>-0.001575</td>\n",
       "      <td>-0.003031</td>\n",
       "    </tr>\n",
       "    <tr>\n",
       "      <th>669</th>\n",
       "      <td>1.717892</td>\n",
       "      <td>0.037459</td>\n",
       "      <td>-0.178518</td>\n",
       "      <td>-0.070181</td>\n",
       "      <td>0.177966</td>\n",
       "      <td>0.761324</td>\n",
       "      <td>0.080675</td>\n",
       "      <td>-0.070936</td>\n",
       "      <td>-0.080624</td>\n",
       "      <td>0.055610</td>\n",
       "      <td>...</td>\n",
       "      <td>0.007281</td>\n",
       "      <td>0.003340</td>\n",
       "      <td>0.012009</td>\n",
       "      <td>0.009551</td>\n",
       "      <td>0.012495</td>\n",
       "      <td>0.007812</td>\n",
       "      <td>0.016183</td>\n",
       "      <td>-0.001616</td>\n",
       "      <td>0.000495</td>\n",
       "      <td>0.010901</td>\n",
       "    </tr>\n",
       "    <tr>\n",
       "      <th>670</th>\n",
       "      <td>3.513651</td>\n",
       "      <td>0.241106</td>\n",
       "      <td>-0.378422</td>\n",
       "      <td>0.195809</td>\n",
       "      <td>-0.024433</td>\n",
       "      <td>0.138251</td>\n",
       "      <td>-0.132892</td>\n",
       "      <td>0.095707</td>\n",
       "      <td>-0.326952</td>\n",
       "      <td>0.252027</td>\n",
       "      <td>...</td>\n",
       "      <td>-0.003441</td>\n",
       "      <td>-0.001327</td>\n",
       "      <td>-0.000554</td>\n",
       "      <td>0.008081</td>\n",
       "      <td>0.009109</td>\n",
       "      <td>-0.035885</td>\n",
       "      <td>-0.003844</td>\n",
       "      <td>0.022771</td>\n",
       "      <td>0.016073</td>\n",
       "      <td>-0.012907</td>\n",
       "    </tr>\n",
       "    <tr>\n",
       "      <th>671</th>\n",
       "      <td>0.822432</td>\n",
       "      <td>0.054845</td>\n",
       "      <td>0.075129</td>\n",
       "      <td>0.020628</td>\n",
       "      <td>-0.000119</td>\n",
       "      <td>0.063715</td>\n",
       "      <td>0.056426</td>\n",
       "      <td>0.020627</td>\n",
       "      <td>0.048006</td>\n",
       "      <td>-0.018953</td>\n",
       "      <td>...</td>\n",
       "      <td>0.003964</td>\n",
       "      <td>0.006757</td>\n",
       "      <td>0.015631</td>\n",
       "      <td>0.009840</td>\n",
       "      <td>0.011536</td>\n",
       "      <td>-0.001876</td>\n",
       "      <td>0.020223</td>\n",
       "      <td>0.009915</td>\n",
       "      <td>0.008527</td>\n",
       "      <td>0.001481</td>\n",
       "    </tr>\n",
       "  </tbody>\n",
       "</table>\n",
       "<p>5 rows × 8909 columns</p>\n",
       "</div>"
      ],
      "text/plain": [
       "movieId    1         2         3         4         5         6         7       \\\n",
       "667      0.523202 -0.207267 -0.188100 -0.038132 -0.151641  0.065063 -0.158715   \n",
       "668      0.633334 -0.174872  0.273468  0.010332 -0.035582  0.257017  0.070778   \n",
       "669      1.717892  0.037459 -0.178518 -0.070181  0.177966  0.761324  0.080675   \n",
       "670      3.513651  0.241106 -0.378422  0.195809 -0.024433  0.138251 -0.132892   \n",
       "671      0.822432  0.054845  0.075129  0.020628 -0.000119  0.063715  0.056426   \n",
       "\n",
       "movieId    8         9         10        ...       161084    161155    161594  \\\n",
       "667     -0.064674 -0.059562 -0.147283    ...     0.001405  0.000745  0.001249   \n",
       "668      0.015411  0.231517 -0.087814    ...    -0.002709 -0.002255 -0.001285   \n",
       "669     -0.070936 -0.080624  0.055610    ...     0.007281  0.003340  0.012009   \n",
       "670      0.095707 -0.326952  0.252027    ...    -0.003441 -0.001327 -0.000554   \n",
       "671      0.020627  0.048006 -0.018953    ...     0.003964  0.006757  0.015631   \n",
       "\n",
       "movieId    161830    161918    161944    162376    162542    162672    163949  \n",
       "667      0.004030  0.005581 -0.005829  0.001409 -0.004255 -0.002181  0.001881  \n",
       "668     -0.003510 -0.004072 -0.071177 -0.000734 -0.001034 -0.001575 -0.003031  \n",
       "669      0.009551  0.012495  0.007812  0.016183 -0.001616  0.000495  0.010901  \n",
       "670      0.008081  0.009109 -0.035885 -0.003844  0.022771  0.016073 -0.012907  \n",
       "671      0.009840  0.011536 -0.001876  0.020223  0.009915  0.008527  0.001481  \n",
       "\n",
       "[5 rows x 8909 columns]"
      ]
     },
     "execution_count": 240,
     "metadata": {},
     "output_type": "execute_result"
    }
   ],
   "source": [
    "all_user_predicted_ratings = np.dot(np.dot(U, sigma), Vt) \n",
    "all_user_predicted_ratings = all_user_predicted_ratings + user_ratings_mean.reshape(-1, 1)\n",
    "preds_df = pd.DataFrame(all_user_predicted_ratings, columns = R_df.columns)\n",
    "preds_df[-5:]"
   ]
  },
  {
   "cell_type": "code",
   "execution_count": 241,
   "metadata": {
    "collapsed": true
   },
   "outputs": [],
   "source": [
    "del U, sigma, Vt,  R, user_ratings_mean, all_user_predicted_ratings"
   ]
  },
  {
   "cell_type": "markdown",
   "metadata": {},
   "source": [
    "Define alguns parâmetros"
   ]
  },
  {
   "cell_type": "code",
   "execution_count": 242,
   "metadata": {
    "collapsed": true
   },
   "outputs": [],
   "source": [
    "userId= 672\n",
    "num_recommendations= 10"
   ]
  },
  {
   "cell_type": "markdown",
   "metadata": {},
   "source": [
    "#### Filtra os filmes já assistidos"
   ]
  },
  {
   "cell_type": "code",
   "execution_count": 243,
   "metadata": {
    "collapsed": false
   },
   "outputs": [
    {
     "name": "stdout",
     "output_type": "stream",
     "text": [
      "Usuário 672 já deixou seu rating para 21 filmes.\n"
     ]
    }
   ],
   "source": [
    "user_row_number = userId - 1 \n",
    "\n",
    "#pega as filmes que o usuário já assistiu\n",
    "sorted_user_predictions = preds_df.iloc[user_row_number].sort_values(ascending=False) \n",
    "    \n",
    "user_data = ratings_df[ratings_df['userId'] == (userId)]\n",
    "already_rated = (user_data.merge(movies_df, how = 'left', left_on = 'movieId', right_on = 'movieId').\n",
    "                sort_values(['rating'], ascending=False)\n",
    "            )\n",
    "\n",
    "print('Usuário {0} já deixou seu rating para {1} filmes.'.format(userId, already_rated.shape[0]) )\n",
    "  "
   ]
  },
  {
   "cell_type": "markdown",
   "metadata": {},
   "source": [
    "# Recomendações"
   ]
  },
  {
   "cell_type": "code",
   "execution_count": 244,
   "metadata": {
    "collapsed": false,
    "scrolled": true
   },
   "outputs": [
    {
     "name": "stdout",
     "output_type": "stream",
     "text": [
      "Recomendando os top 10 filmes ainda não vistos pelo usuário.\n"
     ]
    }
   ],
   "source": [
    "predictions = (movies_df[~movies_df['movieId'].isin(already_rated['movieId'])].\n",
    "                     merge(pd.DataFrame(sorted_user_predictions).reset_index(), how = 'left',\n",
    "                   left_on = 'movieId', right_on = 'movieId').\n",
    "                   rename(columns = {user_row_number: 'Predictions'}).\n",
    "                   sort_values('Predictions', ascending = False).\n",
    "                   iloc[:num_recommendations, :-1]\n",
    "                  )\n",
    "\n",
    "print('Recomendando os top {0} filmes ainda não vistos pelo usuário.'.format(num_recommendations))"
   ]
  },
  {
   "cell_type": "code",
   "execution_count": 245,
   "metadata": {
    "collapsed": false
   },
   "outputs": [
    {
     "data": {
      "text/html": [
       "<div>\n",
       "<table border=\"1\" class=\"dataframe\">\n",
       "  <thead>\n",
       "    <tr style=\"text-align: right;\">\n",
       "      <th></th>\n",
       "      <th>movieId</th>\n",
       "      <th>title</th>\n",
       "      <th>genres</th>\n",
       "    </tr>\n",
       "  </thead>\n",
       "  <tbody>\n",
       "    <tr>\n",
       "      <th>2505</th>\n",
       "      <td>3114</td>\n",
       "      <td>Toy Story 2 (1999)</td>\n",
       "      <td>Adventure|Animation|Children|Comedy|Fantasy</td>\n",
       "    </tr>\n",
       "    <tr>\n",
       "      <th>8764</th>\n",
       "      <td>122882</td>\n",
       "      <td>Mad Max: Fury Road (2015)</td>\n",
       "      <td>Action|Adventure|Sci-Fi|Thriller</td>\n",
       "    </tr>\n",
       "    <tr>\n",
       "      <th>320</th>\n",
       "      <td>356</td>\n",
       "      <td>Forrest Gump (1994)</td>\n",
       "      <td>Comedy|Drama|Romance|War</td>\n",
       "    </tr>\n",
       "    <tr>\n",
       "      <th>3804</th>\n",
       "      <td>4886</td>\n",
       "      <td>Monsters, Inc. (2001)</td>\n",
       "      <td>Adventure|Animation|Children|Comedy|Fantasy</td>\n",
       "    </tr>\n",
       "    <tr>\n",
       "      <th>8217</th>\n",
       "      <td>99114</td>\n",
       "      <td>Django Unchained (2012)</td>\n",
       "      <td>Action|Drama|Western</td>\n",
       "    </tr>\n",
       "    <tr>\n",
       "      <th>7566</th>\n",
       "      <td>79132</td>\n",
       "      <td>Inception (2010)</td>\n",
       "      <td>Action|Crime|Drama|Mystery|Sci-Fi|Thriller|IMAX</td>\n",
       "    </tr>\n",
       "    <tr>\n",
       "      <th>8526</th>\n",
       "      <td>109487</td>\n",
       "      <td>Interstellar (2014)</td>\n",
       "      <td>Sci-Fi|IMAX</td>\n",
       "    </tr>\n",
       "    <tr>\n",
       "      <th>7547</th>\n",
       "      <td>78499</td>\n",
       "      <td>Toy Story 3 (2010)</td>\n",
       "      <td>Adventure|Animation|Children|Comedy|Fantasy|IMAX</td>\n",
       "    </tr>\n",
       "    <tr>\n",
       "      <th>7227</th>\n",
       "      <td>68954</td>\n",
       "      <td>Up (2009)</td>\n",
       "      <td>Adventure|Animation|Children|Drama</td>\n",
       "    </tr>\n",
       "    <tr>\n",
       "      <th>231</th>\n",
       "      <td>260</td>\n",
       "      <td>Star Wars: Episode IV - A New Hope (1977)</td>\n",
       "      <td>Action|Adventure|Sci-Fi</td>\n",
       "    </tr>\n",
       "  </tbody>\n",
       "</table>\n",
       "</div>"
      ],
      "text/plain": [
       "      movieId                                      title  \\\n",
       "2505     3114                         Toy Story 2 (1999)   \n",
       "8764   122882                  Mad Max: Fury Road (2015)   \n",
       "320       356                        Forrest Gump (1994)   \n",
       "3804     4886                      Monsters, Inc. (2001)   \n",
       "8217    99114                    Django Unchained (2012)   \n",
       "7566    79132                           Inception (2010)   \n",
       "8526   109487                        Interstellar (2014)   \n",
       "7547    78499                         Toy Story 3 (2010)   \n",
       "7227    68954                                  Up (2009)   \n",
       "231       260  Star Wars: Episode IV - A New Hope (1977)   \n",
       "\n",
       "                                                genres  \n",
       "2505       Adventure|Animation|Children|Comedy|Fantasy  \n",
       "8764                  Action|Adventure|Sci-Fi|Thriller  \n",
       "320                           Comedy|Drama|Romance|War  \n",
       "3804       Adventure|Animation|Children|Comedy|Fantasy  \n",
       "8217                              Action|Drama|Western  \n",
       "7566   Action|Crime|Drama|Mystery|Sci-Fi|Thriller|IMAX  \n",
       "8526                                       Sci-Fi|IMAX  \n",
       "7547  Adventure|Animation|Children|Comedy|Fantasy|IMAX  \n",
       "7227                Adventure|Animation|Children|Drama  \n",
       "231                            Action|Adventure|Sci-Fi  "
      ]
     },
     "execution_count": 245,
     "metadata": {},
     "output_type": "execute_result"
    }
   ],
   "source": [
    "predictions"
   ]
  },
  {
   "cell_type": "markdown",
   "metadata": {},
   "source": [
    "## Comparando\n",
    "### com os filmes que melhor foram avaliados por mim:"
   ]
  },
  {
   "cell_type": "code",
   "execution_count": 246,
   "metadata": {
    "collapsed": false
   },
   "outputs": [
    {
     "data": {
      "text/html": [
       "<div>\n",
       "<table border=\"1\" class=\"dataframe\">\n",
       "  <thead>\n",
       "    <tr style=\"text-align: right;\">\n",
       "      <th></th>\n",
       "      <th>userId</th>\n",
       "      <th>movieId</th>\n",
       "      <th>rating</th>\n",
       "      <th>title</th>\n",
       "      <th>genres</th>\n",
       "    </tr>\n",
       "  </thead>\n",
       "  <tbody>\n",
       "    <tr>\n",
       "      <th>20</th>\n",
       "      <td>672</td>\n",
       "      <td>68157</td>\n",
       "      <td>5.0</td>\n",
       "      <td>Inglourious Basterds (2009)</td>\n",
       "      <td>Action|Drama|War</td>\n",
       "    </tr>\n",
       "    <tr>\n",
       "      <th>3</th>\n",
       "      <td>672</td>\n",
       "      <td>130634</td>\n",
       "      <td>5.0</td>\n",
       "      <td>Furious 7 (2015)</td>\n",
       "      <td>Action|Crime|Thriller</td>\n",
       "    </tr>\n",
       "    <tr>\n",
       "      <th>9</th>\n",
       "      <td>672</td>\n",
       "      <td>112183</td>\n",
       "      <td>5.0</td>\n",
       "      <td>Birdman: Or (The Unexpected Virtue of Ignoranc...</td>\n",
       "      <td>Comedy|Drama</td>\n",
       "    </tr>\n",
       "    <tr>\n",
       "      <th>19</th>\n",
       "      <td>672</td>\n",
       "      <td>67923</td>\n",
       "      <td>4.5</td>\n",
       "      <td>Fast &amp; Furious (Fast and the Furious 4, The) (...</td>\n",
       "      <td>Action|Crime|Drama|Thriller</td>\n",
       "    </tr>\n",
       "    <tr>\n",
       "      <th>4</th>\n",
       "      <td>672</td>\n",
       "      <td>116797</td>\n",
       "      <td>4.5</td>\n",
       "      <td>The Imitation Game (2014)</td>\n",
       "      <td>Drama|Thriller|War</td>\n",
       "    </tr>\n",
       "    <tr>\n",
       "      <th>18</th>\n",
       "      <td>672</td>\n",
       "      <td>63515</td>\n",
       "      <td>4.5</td>\n",
       "      <td>The Island (2006)</td>\n",
       "      <td>Drama|Mystery</td>\n",
       "    </tr>\n",
       "    <tr>\n",
       "      <th>1</th>\n",
       "      <td>672</td>\n",
       "      <td>135861</td>\n",
       "      <td>4.5</td>\n",
       "      <td>Ted 2 (2015)</td>\n",
       "      <td>Comedy</td>\n",
       "    </tr>\n",
       "    <tr>\n",
       "      <th>11</th>\n",
       "      <td>672</td>\n",
       "      <td>109673</td>\n",
       "      <td>4.5</td>\n",
       "      <td>300: Rise of an Empire (2014)</td>\n",
       "      <td>Action|Drama|War|IMAX</td>\n",
       "    </tr>\n",
       "    <tr>\n",
       "      <th>13</th>\n",
       "      <td>672</td>\n",
       "      <td>50189</td>\n",
       "      <td>4.0</td>\n",
       "      <td>American Pie Presents The Naked Mile (American...</td>\n",
       "      <td>Comedy|Romance</td>\n",
       "    </tr>\n",
       "    <tr>\n",
       "      <th>5</th>\n",
       "      <td>672</td>\n",
       "      <td>114662</td>\n",
       "      <td>4.0</td>\n",
       "      <td>American Sniper (2014)</td>\n",
       "      <td>Action|War</td>\n",
       "    </tr>\n",
       "    <tr>\n",
       "      <th>6</th>\n",
       "      <td>672</td>\n",
       "      <td>112897</td>\n",
       "      <td>4.0</td>\n",
       "      <td>The Expendables 3 (2014)</td>\n",
       "      <td>Action|Adventure</td>\n",
       "    </tr>\n",
       "    <tr>\n",
       "      <th>17</th>\n",
       "      <td>672</td>\n",
       "      <td>62999</td>\n",
       "      <td>4.0</td>\n",
       "      <td>Madagascar: Escape 2 Africa (2008)</td>\n",
       "      <td>Action|Adventure|Animation|Children|Comedy|IMAX</td>\n",
       "    </tr>\n",
       "    <tr>\n",
       "      <th>14</th>\n",
       "      <td>672</td>\n",
       "      <td>59784</td>\n",
       "      <td>3.5</td>\n",
       "      <td>Kung Fu Panda (2008)</td>\n",
       "      <td>Action|Animation|Children|Comedy|IMAX</td>\n",
       "    </tr>\n",
       "    <tr>\n",
       "      <th>0</th>\n",
       "      <td>672</td>\n",
       "      <td>1</td>\n",
       "      <td>3.5</td>\n",
       "      <td>Toy Story (1995)</td>\n",
       "      <td>Adventure|Animation|Children|Comedy|Fantasy</td>\n",
       "    </tr>\n",
       "    <tr>\n",
       "      <th>8</th>\n",
       "      <td>672</td>\n",
       "      <td>112370</td>\n",
       "      <td>3.5</td>\n",
       "      <td>Transformers: Age of Extinction (2014)</td>\n",
       "      <td>Action|Adventure|Sci-Fi</td>\n",
       "    </tr>\n",
       "    <tr>\n",
       "      <th>10</th>\n",
       "      <td>672</td>\n",
       "      <td>110553</td>\n",
       "      <td>3.5</td>\n",
       "      <td>The Amazing Spider-Man 2 (2014)</td>\n",
       "      <td>Action|Sci-Fi|IMAX</td>\n",
       "    </tr>\n",
       "    <tr>\n",
       "      <th>16</th>\n",
       "      <td>672</td>\n",
       "      <td>61160</td>\n",
       "      <td>2.0</td>\n",
       "      <td>Star Wars: The Clone Wars (2008)</td>\n",
       "      <td>Action|Adventure|Animation|Sci-Fi</td>\n",
       "    </tr>\n",
       "    <tr>\n",
       "      <th>7</th>\n",
       "      <td>672</td>\n",
       "      <td>112497</td>\n",
       "      <td>2.0</td>\n",
       "      <td>Tammy (2014)</td>\n",
       "      <td>Comedy</td>\n",
       "    </tr>\n",
       "    <tr>\n",
       "      <th>12</th>\n",
       "      <td>672</td>\n",
       "      <td>108932</td>\n",
       "      <td>1.0</td>\n",
       "      <td>The Lego Movie (2014)</td>\n",
       "      <td>Action|Adventure|Animation|Children|Comedy|Fan...</td>\n",
       "    </tr>\n",
       "    <tr>\n",
       "      <th>15</th>\n",
       "      <td>672</td>\n",
       "      <td>61123</td>\n",
       "      <td>1.0</td>\n",
       "      <td>High School Musical 2 (2007)</td>\n",
       "      <td>Comedy|Drama|Musical|Romance</td>\n",
       "    </tr>\n",
       "    <tr>\n",
       "      <th>2</th>\n",
       "      <td>672</td>\n",
       "      <td>133824</td>\n",
       "      <td>1.0</td>\n",
       "      <td>The Human Centipede III (Final Sequence) (2015)</td>\n",
       "      <td>Horror</td>\n",
       "    </tr>\n",
       "  </tbody>\n",
       "</table>\n",
       "</div>"
      ],
      "text/plain": [
       "    userId  movieId  rating  \\\n",
       "20     672    68157     5.0   \n",
       "3      672   130634     5.0   \n",
       "9      672   112183     5.0   \n",
       "19     672    67923     4.5   \n",
       "4      672   116797     4.5   \n",
       "18     672    63515     4.5   \n",
       "1      672   135861     4.5   \n",
       "11     672   109673     4.5   \n",
       "13     672    50189     4.0   \n",
       "5      672   114662     4.0   \n",
       "6      672   112897     4.0   \n",
       "17     672    62999     4.0   \n",
       "14     672    59784     3.5   \n",
       "0      672        1     3.5   \n",
       "8      672   112370     3.5   \n",
       "10     672   110553     3.5   \n",
       "16     672    61160     2.0   \n",
       "7      672   112497     2.0   \n",
       "12     672   108932     1.0   \n",
       "15     672    61123     1.0   \n",
       "2      672   133824     1.0   \n",
       "\n",
       "                                                title  \\\n",
       "20                        Inglourious Basterds (2009)   \n",
       "3                                    Furious 7 (2015)   \n",
       "9   Birdman: Or (The Unexpected Virtue of Ignoranc...   \n",
       "19  Fast & Furious (Fast and the Furious 4, The) (...   \n",
       "4                           The Imitation Game (2014)   \n",
       "18                                  The Island (2006)   \n",
       "1                                        Ted 2 (2015)   \n",
       "11                      300: Rise of an Empire (2014)   \n",
       "13  American Pie Presents The Naked Mile (American...   \n",
       "5                              American Sniper (2014)   \n",
       "6                            The Expendables 3 (2014)   \n",
       "17                 Madagascar: Escape 2 Africa (2008)   \n",
       "14                               Kung Fu Panda (2008)   \n",
       "0                                    Toy Story (1995)   \n",
       "8              Transformers: Age of Extinction (2014)   \n",
       "10                    The Amazing Spider-Man 2 (2014)   \n",
       "16                   Star Wars: The Clone Wars (2008)   \n",
       "7                                        Tammy (2014)   \n",
       "12                              The Lego Movie (2014)   \n",
       "15                       High School Musical 2 (2007)   \n",
       "2     The Human Centipede III (Final Sequence) (2015)   \n",
       "\n",
       "                                               genres  \n",
       "20                                   Action|Drama|War  \n",
       "3                               Action|Crime|Thriller  \n",
       "9                                        Comedy|Drama  \n",
       "19                        Action|Crime|Drama|Thriller  \n",
       "4                                  Drama|Thriller|War  \n",
       "18                                      Drama|Mystery  \n",
       "1                                              Comedy  \n",
       "11                              Action|Drama|War|IMAX  \n",
       "13                                     Comedy|Romance  \n",
       "5                                          Action|War  \n",
       "6                                    Action|Adventure  \n",
       "17    Action|Adventure|Animation|Children|Comedy|IMAX  \n",
       "14              Action|Animation|Children|Comedy|IMAX  \n",
       "0         Adventure|Animation|Children|Comedy|Fantasy  \n",
       "8                             Action|Adventure|Sci-Fi  \n",
       "10                                 Action|Sci-Fi|IMAX  \n",
       "16                  Action|Adventure|Animation|Sci-Fi  \n",
       "7                                              Comedy  \n",
       "12  Action|Adventure|Animation|Children|Comedy|Fan...  \n",
       "15                       Comedy|Drama|Musical|Romance  \n",
       "2                                              Horror  "
      ]
     },
     "execution_count": 246,
     "metadata": {},
     "output_type": "execute_result"
    }
   ],
   "source": [
    "already_rated"
   ]
  }
 ],
 "metadata": {
  "anaconda-cloud": {},
  "kernelspec": {
   "display_name": "Python 3",
   "language": "python",
   "name": "python3"
  },
  "language_info": {
   "codemirror_mode": {
    "name": "ipython",
    "version": 3
   },
   "file_extension": ".py",
   "mimetype": "text/x-python",
   "name": "python",
   "nbconvert_exporter": "python",
   "pygments_lexer": "ipython3",
   "version": "3.6.0"
  }
 },
 "nbformat": 4,
 "nbformat_minor": 1
}
