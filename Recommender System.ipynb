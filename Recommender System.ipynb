{
 "cells": [
  {
   "cell_type": "markdown",
   "metadata": {},
   "source": [
    "# Sistema de Recomendação\n",
    "## Baseado em Matrix Factorization SVD"
   ]
  },
  {
   "cell_type": "markdown",
   "metadata": {},
   "source": [
    "Autores: Andrei Donati, Angelo Baruffi e Luís Felipe Pelison"
   ]
  },
  {
   "cell_type": "markdown",
   "metadata": {},
   "source": [
    "O DataSet utilizado para este código é o MovieLens (https://grouplens.org/datasets/movielens/). \n",
    "A fim de teste, foi adicionado entradas referentes ao desenvolvedor. "
   ]
  },
  {
   "cell_type": "code",
   "execution_count": 1,
   "metadata": {
    "collapsed": true
   },
   "outputs": [],
   "source": [
    "import pandas as pd\n",
    "import numpy as np\n",
    "import matplotlib.pyplot as plt\n",
    "import math\n",
    "from scipy.sparse.linalg import svds\n",
    "from sklearn.model_selection import train_test_split\n",
    "%matplotlib inline\n",
    "import os\n",
    "os.chdir('c:\\\\Andrei\\\\recommender-systems\\\\dataset')"
   ]
  },
  {
   "cell_type": "markdown",
   "metadata": {},
   "source": [
    "### Importação dos dados para treino do algoritmo"
   ]
  },
  {
   "cell_type": "code",
   "execution_count": 2,
   "metadata": {
    "collapsed": false
   },
   "outputs": [
    {
     "name": "stdout",
     "output_type": "stream",
     "text": [
      "Number of my user is 672\n"
     ]
    }
   ],
   "source": [
    "ratings_df = pd.read_csv(\"ratings.csv\", sep=\",\")\n",
    "ratings_df = ratings_df.iloc[:,0:3]\n",
    "\n",
    "ratings_df, ratings_df_test = train_test_split(\n",
    "                                ratings_df, test_size=0.05, random_state=42)\n",
    "\n",
    "movies_df = pd.read_csv(\"movies.csv\", sep=\",\")\n",
    "movies_df['movieId'] = movies_df['movieId'].apply(pd.to_numeric)\n",
    "\n",
    "me  = np.max(ratings_df['userId']) +1\n",
    "print(\"Number of my user is \"+str(me))"
   ]
  },
  {
   "cell_type": "markdown",
   "metadata": {},
   "source": [
    "Adicionando os meus dados"
   ]
  },
  {
   "cell_type": "code",
   "execution_count": 3,
   "metadata": {
    "collapsed": false,
    "scrolled": true
   },
   "outputs": [
    {
     "name": "stdout",
     "output_type": "stream",
     "text": [
      "Alguns filmes que gosto\n"
     ]
    },
    {
     "data": {
      "text/html": [
       "<div>\n",
       "<table border=\"1\" class=\"dataframe\">\n",
       "  <thead>\n",
       "    <tr style=\"text-align: right;\">\n",
       "      <th></th>\n",
       "      <th>userId</th>\n",
       "      <th>movieId</th>\n",
       "      <th>rating</th>\n",
       "      <th>title</th>\n",
       "      <th>genres</th>\n",
       "    </tr>\n",
       "  </thead>\n",
       "  <tbody>\n",
       "    <tr>\n",
       "      <th>20</th>\n",
       "      <td>672</td>\n",
       "      <td>68157</td>\n",
       "      <td>5.0</td>\n",
       "      <td>Inglourious Basterds (2009)</td>\n",
       "      <td>Action|Drama|War</td>\n",
       "    </tr>\n",
       "    <tr>\n",
       "      <th>3</th>\n",
       "      <td>672</td>\n",
       "      <td>130634</td>\n",
       "      <td>5.0</td>\n",
       "      <td>Furious 7 (2015)</td>\n",
       "      <td>Action|Crime|Thriller</td>\n",
       "    </tr>\n",
       "    <tr>\n",
       "      <th>9</th>\n",
       "      <td>672</td>\n",
       "      <td>112183</td>\n",
       "      <td>5.0</td>\n",
       "      <td>Birdman: Or (The Unexpected Virtue of Ignoranc...</td>\n",
       "      <td>Comedy|Drama</td>\n",
       "    </tr>\n",
       "    <tr>\n",
       "      <th>19</th>\n",
       "      <td>672</td>\n",
       "      <td>67923</td>\n",
       "      <td>4.5</td>\n",
       "      <td>Fast &amp; Furious (Fast and the Furious 4, The) (...</td>\n",
       "      <td>Action|Crime|Drama|Thriller</td>\n",
       "    </tr>\n",
       "    <tr>\n",
       "      <th>4</th>\n",
       "      <td>672</td>\n",
       "      <td>116797</td>\n",
       "      <td>4.5</td>\n",
       "      <td>The Imitation Game (2014)</td>\n",
       "      <td>Drama|Thriller|War</td>\n",
       "    </tr>\n",
       "    <tr>\n",
       "      <th>18</th>\n",
       "      <td>672</td>\n",
       "      <td>63515</td>\n",
       "      <td>4.5</td>\n",
       "      <td>The Island (2006)</td>\n",
       "      <td>Drama|Mystery</td>\n",
       "    </tr>\n",
       "    <tr>\n",
       "      <th>1</th>\n",
       "      <td>672</td>\n",
       "      <td>135861</td>\n",
       "      <td>4.5</td>\n",
       "      <td>Ted 2 (2015)</td>\n",
       "      <td>Comedy</td>\n",
       "    </tr>\n",
       "    <tr>\n",
       "      <th>11</th>\n",
       "      <td>672</td>\n",
       "      <td>109673</td>\n",
       "      <td>4.5</td>\n",
       "      <td>300: Rise of an Empire (2014)</td>\n",
       "      <td>Action|Drama|War|IMAX</td>\n",
       "    </tr>\n",
       "    <tr>\n",
       "      <th>13</th>\n",
       "      <td>672</td>\n",
       "      <td>50189</td>\n",
       "      <td>4.0</td>\n",
       "      <td>American Pie Presents The Naked Mile (American...</td>\n",
       "      <td>Comedy|Romance</td>\n",
       "    </tr>\n",
       "    <tr>\n",
       "      <th>5</th>\n",
       "      <td>672</td>\n",
       "      <td>114662</td>\n",
       "      <td>4.0</td>\n",
       "      <td>American Sniper (2014)</td>\n",
       "      <td>Action|War</td>\n",
       "    </tr>\n",
       "  </tbody>\n",
       "</table>\n",
       "</div>"
      ],
      "text/plain": [
       "    userId  movieId  rating  \\\n",
       "20     672    68157     5.0   \n",
       "3      672   130634     5.0   \n",
       "9      672   112183     5.0   \n",
       "19     672    67923     4.5   \n",
       "4      672   116797     4.5   \n",
       "18     672    63515     4.5   \n",
       "1      672   135861     4.5   \n",
       "11     672   109673     4.5   \n",
       "13     672    50189     4.0   \n",
       "5      672   114662     4.0   \n",
       "\n",
       "                                                title  \\\n",
       "20                        Inglourious Basterds (2009)   \n",
       "3                                    Furious 7 (2015)   \n",
       "9   Birdman: Or (The Unexpected Virtue of Ignoranc...   \n",
       "19  Fast & Furious (Fast and the Furious 4, The) (...   \n",
       "4                           The Imitation Game (2014)   \n",
       "18                                  The Island (2006)   \n",
       "1                                        Ted 2 (2015)   \n",
       "11                      300: Rise of an Empire (2014)   \n",
       "13  American Pie Presents The Naked Mile (American...   \n",
       "5                              American Sniper (2014)   \n",
       "\n",
       "                         genres  \n",
       "20             Action|Drama|War  \n",
       "3         Action|Crime|Thriller  \n",
       "9                  Comedy|Drama  \n",
       "19  Action|Crime|Drama|Thriller  \n",
       "4            Drama|Thriller|War  \n",
       "18                Drama|Mystery  \n",
       "1                        Comedy  \n",
       "11        Action|Drama|War|IMAX  \n",
       "13               Comedy|Romance  \n",
       "5                    Action|War  "
      ]
     },
     "execution_count": 3,
     "metadata": {},
     "output_type": "execute_result"
    }
   ],
   "source": [
    "my_ratings= pd.DataFrame([[me, 1, 3.5 ],[ me,135861, 4.5], [ me,133824, 1], [ me,130634, 5]  , [ me,116797, 4.5], \n",
    "                           [ me,114662, 4], [ me,112897, 4], [ me,112497, 2], [ me,112370, 3.5],\n",
    "                           [ me,112183, 5], [ me,110553, 3.5], [ me,109673, 4.5], [ me,108932, 1], \n",
    "                           [ me,50189, 4], [ me,59784, 3.5], [ me,61123, 1], [ me,61160, 2], \n",
    "                           [ me,62999, 4], [ me,63515, 4.5], [ me,67923, 4.5],\n",
    "                           [ me,68157, 5]], columns=['userId','movieId','rating']) \n",
    "\n",
    "print('Alguns filmes que gosto')\n",
    "my_ratings.merge(movies_df, how = 'left', left_on = 'movieId', right_on = 'movieId').sort_values(by=['rating'], ascending=False).head(10)"
   ]
  },
  {
   "cell_type": "markdown",
   "metadata": {},
   "source": [
    "Une os datasets"
   ]
  },
  {
   "cell_type": "code",
   "execution_count": 4,
   "metadata": {
    "collapsed": false
   },
   "outputs": [],
   "source": [
    "ratings_df = ratings_df.append(my_ratings)"
   ]
  },
  {
   "cell_type": "markdown",
   "metadata": {},
   "source": [
    "Cria matrix de Users x Filmes "
   ]
  },
  {
   "cell_type": "code",
   "execution_count": 5,
   "metadata": {
    "collapsed": false,
    "scrolled": true
   },
   "outputs": [
    {
     "data": {
      "text/html": [
       "<div>\n",
       "<table border=\"1\" class=\"dataframe\">\n",
       "  <thead>\n",
       "    <tr style=\"text-align: right;\">\n",
       "      <th>movieId</th>\n",
       "      <th>1</th>\n",
       "      <th>2</th>\n",
       "      <th>3</th>\n",
       "      <th>4</th>\n",
       "      <th>5</th>\n",
       "      <th>6</th>\n",
       "      <th>7</th>\n",
       "      <th>8</th>\n",
       "      <th>9</th>\n",
       "      <th>10</th>\n",
       "      <th>...</th>\n",
       "      <th>161084</th>\n",
       "      <th>161155</th>\n",
       "      <th>161594</th>\n",
       "      <th>161830</th>\n",
       "      <th>161918</th>\n",
       "      <th>161944</th>\n",
       "      <th>162376</th>\n",
       "      <th>162542</th>\n",
       "      <th>162672</th>\n",
       "      <th>163949</th>\n",
       "    </tr>\n",
       "    <tr>\n",
       "      <th>userId</th>\n",
       "      <th></th>\n",
       "      <th></th>\n",
       "      <th></th>\n",
       "      <th></th>\n",
       "      <th></th>\n",
       "      <th></th>\n",
       "      <th></th>\n",
       "      <th></th>\n",
       "      <th></th>\n",
       "      <th></th>\n",
       "      <th></th>\n",
       "      <th></th>\n",
       "      <th></th>\n",
       "      <th></th>\n",
       "      <th></th>\n",
       "      <th></th>\n",
       "      <th></th>\n",
       "      <th></th>\n",
       "      <th></th>\n",
       "      <th></th>\n",
       "      <th></th>\n",
       "    </tr>\n",
       "  </thead>\n",
       "  <tbody>\n",
       "    <tr>\n",
       "      <th>1</th>\n",
       "      <td>0.0</td>\n",
       "      <td>0.0</td>\n",
       "      <td>0.0</td>\n",
       "      <td>0.0</td>\n",
       "      <td>0.0</td>\n",
       "      <td>0.0</td>\n",
       "      <td>0.0</td>\n",
       "      <td>0.0</td>\n",
       "      <td>0.0</td>\n",
       "      <td>0.0</td>\n",
       "      <td>...</td>\n",
       "      <td>0.0</td>\n",
       "      <td>0.0</td>\n",
       "      <td>0.0</td>\n",
       "      <td>0.0</td>\n",
       "      <td>0.0</td>\n",
       "      <td>0.0</td>\n",
       "      <td>0.0</td>\n",
       "      <td>0.0</td>\n",
       "      <td>0.0</td>\n",
       "      <td>0.0</td>\n",
       "    </tr>\n",
       "    <tr>\n",
       "      <th>2</th>\n",
       "      <td>0.0</td>\n",
       "      <td>0.0</td>\n",
       "      <td>0.0</td>\n",
       "      <td>0.0</td>\n",
       "      <td>0.0</td>\n",
       "      <td>0.0</td>\n",
       "      <td>0.0</td>\n",
       "      <td>0.0</td>\n",
       "      <td>0.0</td>\n",
       "      <td>4.0</td>\n",
       "      <td>...</td>\n",
       "      <td>0.0</td>\n",
       "      <td>0.0</td>\n",
       "      <td>0.0</td>\n",
       "      <td>0.0</td>\n",
       "      <td>0.0</td>\n",
       "      <td>0.0</td>\n",
       "      <td>0.0</td>\n",
       "      <td>0.0</td>\n",
       "      <td>0.0</td>\n",
       "      <td>0.0</td>\n",
       "    </tr>\n",
       "    <tr>\n",
       "      <th>3</th>\n",
       "      <td>0.0</td>\n",
       "      <td>0.0</td>\n",
       "      <td>0.0</td>\n",
       "      <td>0.0</td>\n",
       "      <td>0.0</td>\n",
       "      <td>0.0</td>\n",
       "      <td>0.0</td>\n",
       "      <td>0.0</td>\n",
       "      <td>0.0</td>\n",
       "      <td>0.0</td>\n",
       "      <td>...</td>\n",
       "      <td>0.0</td>\n",
       "      <td>0.0</td>\n",
       "      <td>0.0</td>\n",
       "      <td>0.0</td>\n",
       "      <td>0.0</td>\n",
       "      <td>0.0</td>\n",
       "      <td>0.0</td>\n",
       "      <td>0.0</td>\n",
       "      <td>0.0</td>\n",
       "      <td>0.0</td>\n",
       "    </tr>\n",
       "    <tr>\n",
       "      <th>4</th>\n",
       "      <td>0.0</td>\n",
       "      <td>0.0</td>\n",
       "      <td>0.0</td>\n",
       "      <td>0.0</td>\n",
       "      <td>0.0</td>\n",
       "      <td>0.0</td>\n",
       "      <td>0.0</td>\n",
       "      <td>0.0</td>\n",
       "      <td>0.0</td>\n",
       "      <td>4.0</td>\n",
       "      <td>...</td>\n",
       "      <td>0.0</td>\n",
       "      <td>0.0</td>\n",
       "      <td>0.0</td>\n",
       "      <td>0.0</td>\n",
       "      <td>0.0</td>\n",
       "      <td>0.0</td>\n",
       "      <td>0.0</td>\n",
       "      <td>0.0</td>\n",
       "      <td>0.0</td>\n",
       "      <td>0.0</td>\n",
       "    </tr>\n",
       "    <tr>\n",
       "      <th>5</th>\n",
       "      <td>0.0</td>\n",
       "      <td>0.0</td>\n",
       "      <td>4.0</td>\n",
       "      <td>0.0</td>\n",
       "      <td>0.0</td>\n",
       "      <td>0.0</td>\n",
       "      <td>0.0</td>\n",
       "      <td>0.0</td>\n",
       "      <td>0.0</td>\n",
       "      <td>0.0</td>\n",
       "      <td>...</td>\n",
       "      <td>0.0</td>\n",
       "      <td>0.0</td>\n",
       "      <td>0.0</td>\n",
       "      <td>0.0</td>\n",
       "      <td>0.0</td>\n",
       "      <td>0.0</td>\n",
       "      <td>0.0</td>\n",
       "      <td>0.0</td>\n",
       "      <td>0.0</td>\n",
       "      <td>0.0</td>\n",
       "    </tr>\n",
       "    <tr>\n",
       "      <th>6</th>\n",
       "      <td>0.0</td>\n",
       "      <td>0.0</td>\n",
       "      <td>0.0</td>\n",
       "      <td>0.0</td>\n",
       "      <td>0.0</td>\n",
       "      <td>0.0</td>\n",
       "      <td>0.0</td>\n",
       "      <td>0.0</td>\n",
       "      <td>0.0</td>\n",
       "      <td>0.0</td>\n",
       "      <td>...</td>\n",
       "      <td>0.0</td>\n",
       "      <td>0.0</td>\n",
       "      <td>0.0</td>\n",
       "      <td>0.0</td>\n",
       "      <td>0.0</td>\n",
       "      <td>0.0</td>\n",
       "      <td>0.0</td>\n",
       "      <td>0.0</td>\n",
       "      <td>0.0</td>\n",
       "      <td>0.0</td>\n",
       "    </tr>\n",
       "    <tr>\n",
       "      <th>7</th>\n",
       "      <td>3.0</td>\n",
       "      <td>0.0</td>\n",
       "      <td>0.0</td>\n",
       "      <td>0.0</td>\n",
       "      <td>0.0</td>\n",
       "      <td>0.0</td>\n",
       "      <td>0.0</td>\n",
       "      <td>0.0</td>\n",
       "      <td>0.0</td>\n",
       "      <td>3.0</td>\n",
       "      <td>...</td>\n",
       "      <td>0.0</td>\n",
       "      <td>0.0</td>\n",
       "      <td>0.0</td>\n",
       "      <td>0.0</td>\n",
       "      <td>0.0</td>\n",
       "      <td>0.0</td>\n",
       "      <td>0.0</td>\n",
       "      <td>0.0</td>\n",
       "      <td>0.0</td>\n",
       "      <td>0.0</td>\n",
       "    </tr>\n",
       "    <tr>\n",
       "      <th>8</th>\n",
       "      <td>0.0</td>\n",
       "      <td>0.0</td>\n",
       "      <td>0.0</td>\n",
       "      <td>0.0</td>\n",
       "      <td>0.0</td>\n",
       "      <td>0.0</td>\n",
       "      <td>0.0</td>\n",
       "      <td>0.0</td>\n",
       "      <td>0.0</td>\n",
       "      <td>0.0</td>\n",
       "      <td>...</td>\n",
       "      <td>0.0</td>\n",
       "      <td>0.0</td>\n",
       "      <td>0.0</td>\n",
       "      <td>0.0</td>\n",
       "      <td>0.0</td>\n",
       "      <td>0.0</td>\n",
       "      <td>0.0</td>\n",
       "      <td>0.0</td>\n",
       "      <td>0.0</td>\n",
       "      <td>0.0</td>\n",
       "    </tr>\n",
       "  </tbody>\n",
       "</table>\n",
       "<p>8 rows × 8909 columns</p>\n",
       "</div>"
      ],
      "text/plain": [
       "movieId  1       2       3       4       5       6       7       8       \\\n",
       "userId                                                                    \n",
       "1           0.0     0.0     0.0     0.0     0.0     0.0     0.0     0.0   \n",
       "2           0.0     0.0     0.0     0.0     0.0     0.0     0.0     0.0   \n",
       "3           0.0     0.0     0.0     0.0     0.0     0.0     0.0     0.0   \n",
       "4           0.0     0.0     0.0     0.0     0.0     0.0     0.0     0.0   \n",
       "5           0.0     0.0     4.0     0.0     0.0     0.0     0.0     0.0   \n",
       "6           0.0     0.0     0.0     0.0     0.0     0.0     0.0     0.0   \n",
       "7           3.0     0.0     0.0     0.0     0.0     0.0     0.0     0.0   \n",
       "8           0.0     0.0     0.0     0.0     0.0     0.0     0.0     0.0   \n",
       "\n",
       "movieId  9       10       ...    161084  161155  161594  161830  161918  \\\n",
       "userId                    ...                                             \n",
       "1           0.0     0.0   ...       0.0     0.0     0.0     0.0     0.0   \n",
       "2           0.0     4.0   ...       0.0     0.0     0.0     0.0     0.0   \n",
       "3           0.0     0.0   ...       0.0     0.0     0.0     0.0     0.0   \n",
       "4           0.0     4.0   ...       0.0     0.0     0.0     0.0     0.0   \n",
       "5           0.0     0.0   ...       0.0     0.0     0.0     0.0     0.0   \n",
       "6           0.0     0.0   ...       0.0     0.0     0.0     0.0     0.0   \n",
       "7           0.0     3.0   ...       0.0     0.0     0.0     0.0     0.0   \n",
       "8           0.0     0.0   ...       0.0     0.0     0.0     0.0     0.0   \n",
       "\n",
       "movieId  161944  162376  162542  162672  163949  \n",
       "userId                                           \n",
       "1           0.0     0.0     0.0     0.0     0.0  \n",
       "2           0.0     0.0     0.0     0.0     0.0  \n",
       "3           0.0     0.0     0.0     0.0     0.0  \n",
       "4           0.0     0.0     0.0     0.0     0.0  \n",
       "5           0.0     0.0     0.0     0.0     0.0  \n",
       "6           0.0     0.0     0.0     0.0     0.0  \n",
       "7           0.0     0.0     0.0     0.0     0.0  \n",
       "8           0.0     0.0     0.0     0.0     0.0  \n",
       "\n",
       "[8 rows x 8909 columns]"
      ]
     },
     "execution_count": 5,
     "metadata": {},
     "output_type": "execute_result"
    }
   ],
   "source": [
    "R_df = ratings_df.pivot(index = 'userId', columns ='movieId', values = 'rating').fillna(0)\n",
    "R_df.head(8)"
   ]
  },
  {
   "cell_type": "markdown",
   "metadata": {},
   "source": [
    "### Visualização de algumas informações importantes"
   ]
  },
  {
   "cell_type": "markdown",
   "metadata": {},
   "source": [
    "Entradas não nulas da matriz"
   ]
  },
  {
   "cell_type": "code",
   "execution_count": 6,
   "metadata": {
    "collapsed": false
   },
   "outputs": [
    {
     "name": "stdout",
     "output_type": "stream",
     "text": [
      "% entradas não nulas: 1.5872 %\n"
     ]
    }
   ],
   "source": [
    "print('% entradas não nulas: {:0.4f} %'.format(100*(np.count_nonzero(R_df>0.0)/(R_df.shape[0]*R_df.shape[1]))) )"
   ]
  },
  {
   "cell_type": "code",
   "execution_count": 7,
   "metadata": {
    "collapsed": false
   },
   "outputs": [
    {
     "data": {
      "text/plain": [
       "<matplotlib.axes._subplots.AxesSubplot at 0x1ff203082e8>"
      ]
     },
     "execution_count": 7,
     "metadata": {},
     "output_type": "execute_result"
    },
    {
     "data": {
      "image/png": "[encoded data removed]",
      "text/plain": [
       "<matplotlib.figure.Figure at 0x1ff203087b8>"
      ]
     },
     "metadata": {},
     "output_type": "display_data"
    }
   ],
   "source": [
    "R_df[R_df>0.0].count(axis = 0).sort_values(ascending= False).head(60).plot(kind='bar', title='Quantidade de ratings por filme (top 60)')"
   ]
  },
  {
   "cell_type": "code",
   "execution_count": 8,
   "metadata": {
    "collapsed": false,
    "scrolled": false
   },
   "outputs": [
    {
     "data": {
      "text/plain": [
       "<matplotlib.axes._subplots.AxesSubplot at 0x1ff1ffecef0>"
      ]
     },
     "execution_count": 8,
     "metadata": {},
     "output_type": "execute_result"
    },
    {
     "data": {
      "image/png": "[encoded data removed]",
      "text/plain": [
       "<matplotlib.figure.Figure at 0x1ff1ffba518>"
      ]
     },
     "metadata": {},
     "output_type": "display_data"
    }
   ],
   "source": [
    "R_df[R_df>0.0].count(axis = 1).sort_values(ascending= False).plot(kind='bar', title='Quantidade de ratings por usuário (geral)')"
   ]
  },
  {
   "cell_type": "code",
   "execution_count": 9,
   "metadata": {
    "collapsed": false
   },
   "outputs": [
    {
     "data": {
      "text/plain": [
       "<matplotlib.axes._subplots.AxesSubplot at 0x1ff201eee10>"
      ]
     },
     "execution_count": 9,
     "metadata": {},
     "output_type": "execute_result"
    },
    {
     "data": {
      "image/png": "[encoded data removed]",
      "text/plain": [
       "<matplotlib.figure.Figure at 0x1ff201a7198>"
      ]
     },
     "metadata": {},
     "output_type": "display_data"
    }
   ],
   "source": [
    "R_df[R_df>0.0].count(axis = 1).sort_values(ascending= False).head(30).plot(kind='bar', title='Quantidade de ratings por usuário (menores)')"
   ]
  },
  {
   "cell_type": "code",
   "execution_count": 10,
   "metadata": {
    "collapsed": false,
    "scrolled": true
   },
   "outputs": [
    {
     "data": {
      "text/plain": [
       "<matplotlib.axes._subplots.AxesSubplot at 0x1ff2080def0>"
      ]
     },
     "execution_count": 10,
     "metadata": {},
     "output_type": "execute_result"
    },
    {
     "data": {
      "image/png": "[encoded data removed]",
      "text/plain": [
       "<matplotlib.figure.Figure at 0x1ff22423b38>"
      ]
     },
     "metadata": {},
     "output_type": "display_data"
    }
   ],
   "source": [
    "R_df[R_df>0.0].count(axis = 1).sort_values(ascending= False).head(30).plot(kind='bar', title='Quantidade de ratings por usuário (maiores)')"
   ]
  },
  {
   "cell_type": "code",
   "execution_count": 11,
   "metadata": {
    "collapsed": false
   },
   "outputs": [
    {
     "data": {
      "text/plain": [
       "<matplotlib.axes._subplots.AxesSubplot at 0x1ff21ed1278>"
      ]
     },
     "execution_count": 11,
     "metadata": {},
     "output_type": "execute_result"
    },
    {
     "data": {
      "image/png": "[encoded data removed]",
      "text/plain": [
       "<matplotlib.figure.Figure at 0x1ff21e4a4a8>"
      ]
     },
     "metadata": {},
     "output_type": "display_data"
    }
   ],
   "source": [
    "R_df[R_df>0.0].mean(axis = 1).sort_values(ascending= False).plot(kind='bar', title='Média de ratings por usuário')"
   ]
  },
  {
   "cell_type": "markdown",
   "metadata": {},
   "source": [
    "### Algoritmo SVD"
   ]
  },
  {
   "cell_type": "markdown",
   "metadata": {},
   "source": [
    "Substitui os valores nulos por 0 e transforma a matrix de reviews em uma matrix com uma diferença da média do usuário\n"
   ]
  },
  {
   "cell_type": "code",
   "execution_count": 12,
   "metadata": {
    "collapsed": true
   },
   "outputs": [],
   "source": [
    "R = R_df.as_matrix()\n",
    "user_ratings_mean = np.mean(R, axis = 1)\n",
    "R_demeaned = R - user_ratings_mean.reshape(-1, 1)"
   ]
  },
  {
   "cell_type": "markdown",
   "metadata": {},
   "source": [
    "Aplica a transformação SVD"
   ]
  },
  {
   "cell_type": "code",
   "execution_count": 13,
   "metadata": {
    "collapsed": true
   },
   "outputs": [],
   "source": [
    "U, sigma, Vt = svds(R_demeaned, k = 80)\n",
    "\n",
    "sigma = np.diag(sigma)"
   ]
  },
  {
   "cell_type": "markdown",
   "metadata": {},
   "source": [
    "Reconstroi a matrix de ratings"
   ]
  },
  {
   "cell_type": "code",
   "execution_count": 14,
   "metadata": {
    "collapsed": false
   },
   "outputs": [
    {
     "data": {
      "text/html": [
       "<div>\n",
       "<table border=\"1\" class=\"dataframe\">\n",
       "  <thead>\n",
       "    <tr style=\"text-align: right;\">\n",
       "      <th>movieId</th>\n",
       "      <th>1</th>\n",
       "      <th>2</th>\n",
       "      <th>3</th>\n",
       "      <th>4</th>\n",
       "      <th>5</th>\n",
       "      <th>6</th>\n",
       "      <th>7</th>\n",
       "      <th>8</th>\n",
       "      <th>9</th>\n",
       "      <th>10</th>\n",
       "      <th>...</th>\n",
       "      <th>161084</th>\n",
       "      <th>161155</th>\n",
       "      <th>161594</th>\n",
       "      <th>161830</th>\n",
       "      <th>161918</th>\n",
       "      <th>161944</th>\n",
       "      <th>162376</th>\n",
       "      <th>162542</th>\n",
       "      <th>162672</th>\n",
       "      <th>163949</th>\n",
       "    </tr>\n",
       "  </thead>\n",
       "  <tbody>\n",
       "    <tr>\n",
       "      <th>0</th>\n",
       "      <td>-0.099005</td>\n",
       "      <td>0.049427</td>\n",
       "      <td>0.011699</td>\n",
       "      <td>-0.039027</td>\n",
       "      <td>-0.045565</td>\n",
       "      <td>0.060376</td>\n",
       "      <td>-0.013306</td>\n",
       "      <td>-0.019088</td>\n",
       "      <td>0.032981</td>\n",
       "      <td>0.038844</td>\n",
       "      <td>...</td>\n",
       "      <td>-0.007086</td>\n",
       "      <td>-0.005791</td>\n",
       "      <td>0.009265</td>\n",
       "      <td>-0.004256</td>\n",
       "      <td>-0.003700</td>\n",
       "      <td>0.001177</td>\n",
       "      <td>0.016582</td>\n",
       "      <td>-0.006479</td>\n",
       "      <td>-0.006034</td>\n",
       "      <td>-0.008803</td>\n",
       "    </tr>\n",
       "    <tr>\n",
       "      <th>1</th>\n",
       "      <td>0.388745</td>\n",
       "      <td>1.624741</td>\n",
       "      <td>-0.202489</td>\n",
       "      <td>0.174076</td>\n",
       "      <td>0.135105</td>\n",
       "      <td>0.177129</td>\n",
       "      <td>0.037123</td>\n",
       "      <td>0.072423</td>\n",
       "      <td>-0.006390</td>\n",
       "      <td>2.376564</td>\n",
       "      <td>...</td>\n",
       "      <td>-0.001970</td>\n",
       "      <td>-0.003118</td>\n",
       "      <td>-0.001988</td>\n",
       "      <td>0.001649</td>\n",
       "      <td>0.003152</td>\n",
       "      <td>-0.026364</td>\n",
       "      <td>-0.002302</td>\n",
       "      <td>0.000772</td>\n",
       "      <td>-0.000080</td>\n",
       "      <td>-0.002581</td>\n",
       "    </tr>\n",
       "    <tr>\n",
       "      <th>2</th>\n",
       "      <td>0.927754</td>\n",
       "      <td>0.063741</td>\n",
       "      <td>-0.177900</td>\n",
       "      <td>-0.058070</td>\n",
       "      <td>0.096517</td>\n",
       "      <td>-0.000337</td>\n",
       "      <td>-0.051324</td>\n",
       "      <td>-0.041342</td>\n",
       "      <td>-0.008672</td>\n",
       "      <td>0.040683</td>\n",
       "      <td>...</td>\n",
       "      <td>-0.001326</td>\n",
       "      <td>-0.002324</td>\n",
       "      <td>0.003538</td>\n",
       "      <td>-0.004491</td>\n",
       "      <td>-0.005152</td>\n",
       "      <td>-0.010566</td>\n",
       "      <td>0.006891</td>\n",
       "      <td>0.008892</td>\n",
       "      <td>0.004068</td>\n",
       "      <td>0.000517</td>\n",
       "    </tr>\n",
       "    <tr>\n",
       "      <th>3</th>\n",
       "      <td>0.465707</td>\n",
       "      <td>1.635466</td>\n",
       "      <td>0.539386</td>\n",
       "      <td>-0.157619</td>\n",
       "      <td>-0.061393</td>\n",
       "      <td>-1.748462</td>\n",
       "      <td>-0.150896</td>\n",
       "      <td>-0.144209</td>\n",
       "      <td>-0.048586</td>\n",
       "      <td>2.725049</td>\n",
       "      <td>...</td>\n",
       "      <td>0.007259</td>\n",
       "      <td>-0.002242</td>\n",
       "      <td>0.009448</td>\n",
       "      <td>0.010272</td>\n",
       "      <td>0.014039</td>\n",
       "      <td>0.049587</td>\n",
       "      <td>0.012803</td>\n",
       "      <td>-0.001722</td>\n",
       "      <td>0.000062</td>\n",
       "      <td>0.011779</td>\n",
       "    </tr>\n",
       "    <tr>\n",
       "      <th>4</th>\n",
       "      <td>0.905208</td>\n",
       "      <td>1.568860</td>\n",
       "      <td>0.601549</td>\n",
       "      <td>0.008675</td>\n",
       "      <td>0.777848</td>\n",
       "      <td>-0.124813</td>\n",
       "      <td>0.168821</td>\n",
       "      <td>0.087312</td>\n",
       "      <td>-0.201958</td>\n",
       "      <td>0.397355</td>\n",
       "      <td>...</td>\n",
       "      <td>-0.012172</td>\n",
       "      <td>-0.014483</td>\n",
       "      <td>0.005342</td>\n",
       "      <td>-0.003695</td>\n",
       "      <td>0.002272</td>\n",
       "      <td>-0.074354</td>\n",
       "      <td>0.015826</td>\n",
       "      <td>0.005696</td>\n",
       "      <td>-0.002834</td>\n",
       "      <td>-0.008716</td>\n",
       "    </tr>\n",
       "    <tr>\n",
       "      <th>5</th>\n",
       "      <td>0.421585</td>\n",
       "      <td>0.091281</td>\n",
       "      <td>-0.170213</td>\n",
       "      <td>0.082628</td>\n",
       "      <td>0.157149</td>\n",
       "      <td>-0.002793</td>\n",
       "      <td>-0.244321</td>\n",
       "      <td>-0.017793</td>\n",
       "      <td>-0.059705</td>\n",
       "      <td>-0.032360</td>\n",
       "      <td>...</td>\n",
       "      <td>-0.000463</td>\n",
       "      <td>-0.001502</td>\n",
       "      <td>0.002077</td>\n",
       "      <td>-0.002884</td>\n",
       "      <td>-0.002288</td>\n",
       "      <td>0.009422</td>\n",
       "      <td>0.005154</td>\n",
       "      <td>-0.013228</td>\n",
       "      <td>-0.009568</td>\n",
       "      <td>0.003152</td>\n",
       "    </tr>\n",
       "    <tr>\n",
       "      <th>6</th>\n",
       "      <td>2.749301</td>\n",
       "      <td>0.523698</td>\n",
       "      <td>0.563045</td>\n",
       "      <td>0.121625</td>\n",
       "      <td>-0.129795</td>\n",
       "      <td>-0.045831</td>\n",
       "      <td>0.416046</td>\n",
       "      <td>-0.059373</td>\n",
       "      <td>0.144835</td>\n",
       "      <td>0.839767</td>\n",
       "      <td>...</td>\n",
       "      <td>0.001748</td>\n",
       "      <td>-0.002066</td>\n",
       "      <td>-0.003695</td>\n",
       "      <td>0.005800</td>\n",
       "      <td>0.007473</td>\n",
       "      <td>-0.051292</td>\n",
       "      <td>-0.006770</td>\n",
       "      <td>0.018542</td>\n",
       "      <td>0.012106</td>\n",
       "      <td>0.001042</td>\n",
       "    </tr>\n",
       "    <tr>\n",
       "      <th>7</th>\n",
       "      <td>0.860668</td>\n",
       "      <td>0.053987</td>\n",
       "      <td>0.452131</td>\n",
       "      <td>0.056236</td>\n",
       "      <td>0.398331</td>\n",
       "      <td>-0.048852</td>\n",
       "      <td>0.177270</td>\n",
       "      <td>0.095783</td>\n",
       "      <td>0.052153</td>\n",
       "      <td>0.314126</td>\n",
       "      <td>...</td>\n",
       "      <td>-0.000071</td>\n",
       "      <td>0.008329</td>\n",
       "      <td>-0.002588</td>\n",
       "      <td>0.007136</td>\n",
       "      <td>0.004278</td>\n",
       "      <td>-0.116606</td>\n",
       "      <td>-0.010308</td>\n",
       "      <td>0.010885</td>\n",
       "      <td>0.011671</td>\n",
       "      <td>-0.012992</td>\n",
       "    </tr>\n",
       "  </tbody>\n",
       "</table>\n",
       "<p>8 rows × 8909 columns</p>\n",
       "</div>"
      ],
      "text/plain": [
       "movieId    1         2         3         4         5         6         7       \\\n",
       "0       -0.099005  0.049427  0.011699 -0.039027 -0.045565  0.060376 -0.013306   \n",
       "1        0.388745  1.624741 -0.202489  0.174076  0.135105  0.177129  0.037123   \n",
       "2        0.927754  0.063741 -0.177900 -0.058070  0.096517 -0.000337 -0.051324   \n",
       "3        0.465707  1.635466  0.539386 -0.157619 -0.061393 -1.748462 -0.150896   \n",
       "4        0.905208  1.568860  0.601549  0.008675  0.777848 -0.124813  0.168821   \n",
       "5        0.421585  0.091281 -0.170213  0.082628  0.157149 -0.002793 -0.244321   \n",
       "6        2.749301  0.523698  0.563045  0.121625 -0.129795 -0.045831  0.416046   \n",
       "7        0.860668  0.053987  0.452131  0.056236  0.398331 -0.048852  0.177270   \n",
       "\n",
       "movieId    8         9         10        ...       161084    161155    161594  \\\n",
       "0       -0.019088  0.032981  0.038844    ...    -0.007086 -0.005791  0.009265   \n",
       "1        0.072423 -0.006390  2.376564    ...    -0.001970 -0.003118 -0.001988   \n",
       "2       -0.041342 -0.008672  0.040683    ...    -0.001326 -0.002324  0.003538   \n",
       "3       -0.144209 -0.048586  2.725049    ...     0.007259 -0.002242  0.009448   \n",
       "4        0.087312 -0.201958  0.397355    ...    -0.012172 -0.014483  0.005342   \n",
       "5       -0.017793 -0.059705 -0.032360    ...    -0.000463 -0.001502  0.002077   \n",
       "6       -0.059373  0.144835  0.839767    ...     0.001748 -0.002066 -0.003695   \n",
       "7        0.095783  0.052153  0.314126    ...    -0.000071  0.008329 -0.002588   \n",
       "\n",
       "movieId    161830    161918    161944    162376    162542    162672    163949  \n",
       "0       -0.004256 -0.003700  0.001177  0.016582 -0.006479 -0.006034 -0.008803  \n",
       "1        0.001649  0.003152 -0.026364 -0.002302  0.000772 -0.000080 -0.002581  \n",
       "2       -0.004491 -0.005152 -0.010566  0.006891  0.008892  0.004068  0.000517  \n",
       "3        0.010272  0.014039  0.049587  0.012803 -0.001722  0.000062  0.011779  \n",
       "4       -0.003695  0.002272 -0.074354  0.015826  0.005696 -0.002834 -0.008716  \n",
       "5       -0.002884 -0.002288  0.009422  0.005154 -0.013228 -0.009568  0.003152  \n",
       "6        0.005800  0.007473 -0.051292 -0.006770  0.018542  0.012106  0.001042  \n",
       "7        0.007136  0.004278 -0.116606 -0.010308  0.010885  0.011671 -0.012992  \n",
       "\n",
       "[8 rows x 8909 columns]"
      ]
     },
     "execution_count": 14,
     "metadata": {},
     "output_type": "execute_result"
    }
   ],
   "source": [
    "all_user_predicted_ratings = np.dot(np.dot(U, sigma), Vt) \n",
    "all_user_predicted_ratings = all_user_predicted_ratings + user_ratings_mean.reshape(-1, 1)\n",
    "preds_df = pd.DataFrame(all_user_predicted_ratings, columns = R_df.columns)\n",
    "preds_df.head(8)"
   ]
  },
  {
   "cell_type": "code",
   "execution_count": 15,
   "metadata": {
    "collapsed": true
   },
   "outputs": [],
   "source": [
    "del U, sigma, Vt,  R, user_ratings_mean, all_user_predicted_ratings"
   ]
  },
  {
   "cell_type": "markdown",
   "metadata": {},
   "source": [
    "Define alguns parâmetros"
   ]
  },
  {
   "cell_type": "code",
   "execution_count": 16,
   "metadata": {
    "collapsed": true
   },
   "outputs": [],
   "source": [
    "userId= me\n",
    "num_recommendations= 10"
   ]
  },
  {
   "cell_type": "markdown",
   "metadata": {},
   "source": [
    "Filtra os filmes já assistidos"
   ]
  },
  {
   "cell_type": "code",
   "execution_count": 17,
   "metadata": {
    "collapsed": false
   },
   "outputs": [
    {
     "name": "stdout",
     "output_type": "stream",
     "text": [
      "Usuário 672 já deixou seu rating para 21 filmes.\n"
     ]
    }
   ],
   "source": [
    "user_row_number = userId - 1 \n",
    "\n",
    "#pega as filmes que o usuário já assistiu\n",
    "sorted_user_predictions = preds_df.iloc[user_row_number].sort_values(ascending=False) \n",
    "    \n",
    "user_data = ratings_df[ratings_df['userId'] == (userId)]\n",
    "already_rated = (user_data.merge(movies_df, how = 'left', left_on = 'movieId', right_on = 'movieId').\n",
    "                sort_values(['rating'], ascending=False)\n",
    "            )\n",
    "\n",
    "print('Usuário {0} já deixou seu rating para {1} filmes.'.format(userId, already_rated.shape[0]) )\n",
    "  "
   ]
  },
  {
   "cell_type": "markdown",
   "metadata": {},
   "source": [
    "Busca as predições"
   ]
  },
  {
   "cell_type": "code",
   "execution_count": 18,
   "metadata": {
    "collapsed": false,
    "scrolled": true
   },
   "outputs": [
    {
     "name": "stdout",
     "output_type": "stream",
     "text": [
      "Recomendando os top 10 filmes ainda não vistou pelo usuário.\n"
     ]
    }
   ],
   "source": [
    "predictions = (movies_df[~movies_df['movieId'].isin(already_rated['movieId'])].\n",
    "                     merge(pd.DataFrame(sorted_user_predictions).reset_index(), how = 'left',\n",
    "                   left_on = 'movieId', right_on = 'movieId').\n",
    "                   rename(columns = {user_row_number: 'Predictions'}).\n",
    "                   sort_values('Predictions', ascending = False).\n",
    "                   iloc[:num_recommendations, :-1]\n",
    "                  )\n",
    "\n",
    "print('Recomendando os top {0} filmes ainda não vistou pelo usuário.'.format(num_recommendations))"
   ]
  },
  {
   "cell_type": "markdown",
   "metadata": {},
   "source": [
    "### Recomendações"
   ]
  },
  {
   "cell_type": "code",
   "execution_count": 19,
   "metadata": {
    "collapsed": false
   },
   "outputs": [
    {
     "data": {
      "text/html": [
       "<div>\n",
       "<table border=\"1\" class=\"dataframe\">\n",
       "  <thead>\n",
       "    <tr style=\"text-align: right;\">\n",
       "      <th></th>\n",
       "      <th>movieId</th>\n",
       "      <th>title</th>\n",
       "      <th>genres</th>\n",
       "    </tr>\n",
       "  </thead>\n",
       "  <tbody>\n",
       "    <tr>\n",
       "      <th>2505</th>\n",
       "      <td>3114</td>\n",
       "      <td>Toy Story 2 (1999)</td>\n",
       "      <td>Adventure|Animation|Children|Comedy|Fantasy</td>\n",
       "    </tr>\n",
       "    <tr>\n",
       "      <th>8764</th>\n",
       "      <td>122882</td>\n",
       "      <td>Mad Max: Fury Road (2015)</td>\n",
       "      <td>Action|Adventure|Sci-Fi|Thriller</td>\n",
       "    </tr>\n",
       "    <tr>\n",
       "      <th>320</th>\n",
       "      <td>356</td>\n",
       "      <td>Forrest Gump (1994)</td>\n",
       "      <td>Comedy|Drama|Romance|War</td>\n",
       "    </tr>\n",
       "    <tr>\n",
       "      <th>3804</th>\n",
       "      <td>4886</td>\n",
       "      <td>Monsters, Inc. (2001)</td>\n",
       "      <td>Adventure|Animation|Children|Comedy|Fantasy</td>\n",
       "    </tr>\n",
       "    <tr>\n",
       "      <th>8217</th>\n",
       "      <td>99114</td>\n",
       "      <td>Django Unchained (2012)</td>\n",
       "      <td>Action|Drama|Western</td>\n",
       "    </tr>\n",
       "    <tr>\n",
       "      <th>7566</th>\n",
       "      <td>79132</td>\n",
       "      <td>Inception (2010)</td>\n",
       "      <td>Action|Crime|Drama|Mystery|Sci-Fi|Thriller|IMAX</td>\n",
       "    </tr>\n",
       "    <tr>\n",
       "      <th>8526</th>\n",
       "      <td>109487</td>\n",
       "      <td>Interstellar (2014)</td>\n",
       "      <td>Sci-Fi|IMAX</td>\n",
       "    </tr>\n",
       "    <tr>\n",
       "      <th>7547</th>\n",
       "      <td>78499</td>\n",
       "      <td>Toy Story 3 (2010)</td>\n",
       "      <td>Adventure|Animation|Children|Comedy|Fantasy|IMAX</td>\n",
       "    </tr>\n",
       "    <tr>\n",
       "      <th>7227</th>\n",
       "      <td>68954</td>\n",
       "      <td>Up (2009)</td>\n",
       "      <td>Adventure|Animation|Children|Drama</td>\n",
       "    </tr>\n",
       "    <tr>\n",
       "      <th>231</th>\n",
       "      <td>260</td>\n",
       "      <td>Star Wars: Episode IV - A New Hope (1977)</td>\n",
       "      <td>Action|Adventure|Sci-Fi</td>\n",
       "    </tr>\n",
       "  </tbody>\n",
       "</table>\n",
       "</div>"
      ],
      "text/plain": [
       "      movieId                                      title  \\\n",
       "2505     3114                         Toy Story 2 (1999)   \n",
       "8764   122882                  Mad Max: Fury Road (2015)   \n",
       "320       356                        Forrest Gump (1994)   \n",
       "3804     4886                      Monsters, Inc. (2001)   \n",
       "8217    99114                    Django Unchained (2012)   \n",
       "7566    79132                           Inception (2010)   \n",
       "8526   109487                        Interstellar (2014)   \n",
       "7547    78499                         Toy Story 3 (2010)   \n",
       "7227    68954                                  Up (2009)   \n",
       "231       260  Star Wars: Episode IV - A New Hope (1977)   \n",
       "\n",
       "                                                genres  \n",
       "2505       Adventure|Animation|Children|Comedy|Fantasy  \n",
       "8764                  Action|Adventure|Sci-Fi|Thriller  \n",
       "320                           Comedy|Drama|Romance|War  \n",
       "3804       Adventure|Animation|Children|Comedy|Fantasy  \n",
       "8217                              Action|Drama|Western  \n",
       "7566   Action|Crime|Drama|Mystery|Sci-Fi|Thriller|IMAX  \n",
       "8526                                       Sci-Fi|IMAX  \n",
       "7547  Adventure|Animation|Children|Comedy|Fantasy|IMAX  \n",
       "7227                Adventure|Animation|Children|Drama  \n",
       "231                            Action|Adventure|Sci-Fi  "
      ]
     },
     "execution_count": 19,
     "metadata": {},
     "output_type": "execute_result"
    }
   ],
   "source": [
    "predictions"
   ]
  }
 ],
 "metadata": {
  "anaconda-cloud": {},
  "kernelspec": {
   "display_name": "Python [default]",
   "language": "python",
   "name": "python3"
  },
  "language_info": {
   "codemirror_mode": {
    "name": "ipython",
    "version": 3
   },
   "file_extension": ".py",
   "mimetype": "text/x-python",
   "name": "python",
   "nbconvert_exporter": "python",
   "pygments_lexer": "ipython3",
   "version": "3.5.2"
  }
 },
 "nbformat": 4,
 "nbformat_minor": 1
}
