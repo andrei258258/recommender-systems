{
 "cells": [
  {
   "cell_type": "markdown",
   "metadata": {},
   "source": [
    "# Sistema de Recomendação\n",
    "## Baseado em Matrix Factorization SVD"
   ]
  },
  {
   "cell_type": "markdown",
   "metadata": {},
   "source": [
    "Autores: Andrei Donati, Angelo Baruffi e Luís Felipe Pelison"
   ]
  },
  {
   "cell_type": "markdown",
   "metadata": {},
   "source": [
    "O DataSet utilizado para este código é o MovieLens (https://grouplens.org/datasets/movielens/). \n",
    "A fim de teste, foi adicionado entradas referentes ao desenvolvedor. "
   ]
  },
  {
   "cell_type": "code",
   "execution_count": 1,
   "metadata": {
    "collapsed": true
   },
   "outputs": [],
   "source": [
    "import pandas as pd\n",
    "import numpy as np\n",
    "import matplotlib.pyplot as plt\n",
    "import math\n",
    "from scipy.sparse.linalg import svds\n",
    "%matplotlib inline\n",
    "import os\n",
    "os.chdir('c:\\\\Andrei\\\\recommender-systems\\\\dataset')"
   ]
  },
  {
   "cell_type": "markdown",
   "metadata": {},
   "source": [
    "### Importação dos dados para treino do algoritmo"
   ]
  },
  {
   "cell_type": "code",
   "execution_count": 2,
   "metadata": {
    "collapsed": false
   },
   "outputs": [
    {
     "name": "stdout",
     "output_type": "stream",
     "text": [
      "Number of my user is 672\n"
     ]
    }
   ],
   "source": [
    "ratings_df = pd.read_csv(\"ratings.csv\", sep=\",\")\n",
    "ratings_df = ratings_df.iloc[:,0:3]\n",
    "\n",
    "movies_df = pd.read_csv(\"movies.csv\", sep=\",\")\n",
    "movies_df['movieId'] = movies_df['movieId'].apply(pd.to_numeric)\n",
    "\n",
    "me  = np.max(ratings_df['userId']) +1\n",
    "print(\"Number of my user is \"+str(me))"
   ]
  },
  {
   "cell_type": "markdown",
   "metadata": {},
   "source": [
    "Adicionando os dados do usuário:\n",
    "\n",
    "Toy story 1 (3.5) - ted 2 (4.5) - Furious 7 (4) - The Human Centipede III (1) - imitation Game (5) - American Sniper (4.5)\n",
    "The Expendables 3 (4) - Tammy (2) - Transformers: Age of Extinction (3.5)- Birdman: (5)\n",
    "The Amazing Spider-Man 2 (3.5) - 300: Rise of an Empire (4.5) - The Lego Movie (1) - American Pie (4)\n",
    "Kung Fu Panda (3.5) - High School Musical 2 (1) - Star Wars: The Clone Wars (2) - Madagascar: Escape 2 Africa (4)\n",
    "The Island (4.5) - Fast & Furious 4 (4.5) - Inglourious Basterds (5)"
   ]
  },
  {
   "cell_type": "code",
   "execution_count": 22,
   "metadata": {
    "collapsed": false,
    "scrolled": true
   },
   "outputs": [
    {
     "name": "stdout",
     "output_type": "stream",
     "text": [
      "aa\n"
     ]
    },
    {
     "data": {
      "text/html": [
       "<div>\n",
       "<table border=\"1\" class=\"dataframe\">\n",
       "  <thead>\n",
       "    <tr style=\"text-align: right;\">\n",
       "      <th></th>\n",
       "      <th>userId</th>\n",
       "      <th>movieId</th>\n",
       "      <th>rating</th>\n",
       "      <th>title</th>\n",
       "      <th>genres</th>\n",
       "    </tr>\n",
       "  </thead>\n",
       "  <tbody>\n",
       "    <tr>\n",
       "      <th>20</th>\n",
       "      <td>672</td>\n",
       "      <td>68157</td>\n",
       "      <td>5.0</td>\n",
       "      <td>Inglourious Basterds (2009)</td>\n",
       "      <td>Action|Drama|War</td>\n",
       "    </tr>\n",
       "    <tr>\n",
       "      <th>3</th>\n",
       "      <td>672</td>\n",
       "      <td>130634</td>\n",
       "      <td>5.0</td>\n",
       "      <td>Furious 7 (2015)</td>\n",
       "      <td>Action|Crime|Thriller</td>\n",
       "    </tr>\n",
       "    <tr>\n",
       "      <th>9</th>\n",
       "      <td>672</td>\n",
       "      <td>112183</td>\n",
       "      <td>5.0</td>\n",
       "      <td>Birdman: Or (The Unexpected Virtue of Ignoranc...</td>\n",
       "      <td>Comedy|Drama</td>\n",
       "    </tr>\n",
       "    <tr>\n",
       "      <th>19</th>\n",
       "      <td>672</td>\n",
       "      <td>67923</td>\n",
       "      <td>4.5</td>\n",
       "      <td>Fast &amp; Furious (Fast and the Furious 4, The) (...</td>\n",
       "      <td>Action|Crime|Drama|Thriller</td>\n",
       "    </tr>\n",
       "    <tr>\n",
       "      <th>4</th>\n",
       "      <td>672</td>\n",
       "      <td>116797</td>\n",
       "      <td>4.5</td>\n",
       "      <td>The Imitation Game (2014)</td>\n",
       "      <td>Drama|Thriller|War</td>\n",
       "    </tr>\n",
       "    <tr>\n",
       "      <th>18</th>\n",
       "      <td>672</td>\n",
       "      <td>63515</td>\n",
       "      <td>4.5</td>\n",
       "      <td>The Island (2006)</td>\n",
       "      <td>Drama|Mystery</td>\n",
       "    </tr>\n",
       "    <tr>\n",
       "      <th>1</th>\n",
       "      <td>672</td>\n",
       "      <td>135861</td>\n",
       "      <td>4.5</td>\n",
       "      <td>Ted 2 (2015)</td>\n",
       "      <td>Comedy</td>\n",
       "    </tr>\n",
       "    <tr>\n",
       "      <th>11</th>\n",
       "      <td>672</td>\n",
       "      <td>109673</td>\n",
       "      <td>4.5</td>\n",
       "      <td>300: Rise of an Empire (2014)</td>\n",
       "      <td>Action|Drama|War|IMAX</td>\n",
       "    </tr>\n",
       "    <tr>\n",
       "      <th>13</th>\n",
       "      <td>672</td>\n",
       "      <td>50189</td>\n",
       "      <td>4.0</td>\n",
       "      <td>American Pie Presents The Naked Mile (American...</td>\n",
       "      <td>Comedy|Romance</td>\n",
       "    </tr>\n",
       "    <tr>\n",
       "      <th>5</th>\n",
       "      <td>672</td>\n",
       "      <td>114662</td>\n",
       "      <td>4.0</td>\n",
       "      <td>American Sniper (2014)</td>\n",
       "      <td>Action|War</td>\n",
       "    </tr>\n",
       "  </tbody>\n",
       "</table>\n",
       "</div>"
      ],
      "text/plain": [
       "    userId  movieId  rating  \\\n",
       "20     672    68157     5.0   \n",
       "3      672   130634     5.0   \n",
       "9      672   112183     5.0   \n",
       "19     672    67923     4.5   \n",
       "4      672   116797     4.5   \n",
       "18     672    63515     4.5   \n",
       "1      672   135861     4.5   \n",
       "11     672   109673     4.5   \n",
       "13     672    50189     4.0   \n",
       "5      672   114662     4.0   \n",
       "\n",
       "                                                title  \\\n",
       "20                        Inglourious Basterds (2009)   \n",
       "3                                    Furious 7 (2015)   \n",
       "9   Birdman: Or (The Unexpected Virtue of Ignoranc...   \n",
       "19  Fast & Furious (Fast and the Furious 4, The) (...   \n",
       "4                           The Imitation Game (2014)   \n",
       "18                                  The Island (2006)   \n",
       "1                                        Ted 2 (2015)   \n",
       "11                      300: Rise of an Empire (2014)   \n",
       "13  American Pie Presents The Naked Mile (American...   \n",
       "5                              American Sniper (2014)   \n",
       "\n",
       "                         genres  \n",
       "20             Action|Drama|War  \n",
       "3         Action|Crime|Thriller  \n",
       "9                  Comedy|Drama  \n",
       "19  Action|Crime|Drama|Thriller  \n",
       "4            Drama|Thriller|War  \n",
       "18                Drama|Mystery  \n",
       "1                        Comedy  \n",
       "11        Action|Drama|War|IMAX  \n",
       "13               Comedy|Romance  \n",
       "5                    Action|War  "
      ]
     },
     "execution_count": 22,
     "metadata": {},
     "output_type": "execute_result"
    }
   ],
   "source": [
    "my_ratings= pd.DataFrame([[me, 1, 3.5 ],[ me,135861, 4.5], [ me,133824, 1], [ me,130634, 5]  , [ me,116797, 4.5], \n",
    "                           [ me,114662, 4], [ me,112897, 4], [ me,112497, 2], [ me,112370, 3.5],\n",
    "                           [ me,112183, 5], [ me,110553, 3.5], [ me,109673, 4.5], [ me,108932, 1], \n",
    "                           [ me,50189, 4], [ me,59784, 3.5], [ me,61123, 1], [ me,61160, 2], \n",
    "                           [ me,62999, 4], [ me,63515, 4.5], [ me,67923, 4.5],\n",
    "                           [ me,68157, 5]], columns=['userId','movieId','rating']) \n",
    "\n",
    "print('Meus filmes preferidos')\n",
    "my_ratings.merge(movies_df, how = 'left', left_on = 'movieId', right_on = 'movieId').sort_values(by=['rating'], ascending=False).head(10)"
   ]
  },
  {
   "cell_type": "markdown",
   "metadata": {},
   "source": [
    "Une os datasets"
   ]
  },
  {
   "cell_type": "code",
   "execution_count": null,
   "metadata": {
    "collapsed": true
   },
   "outputs": [],
   "source": [
    "already_rated.head(10)"
   ]
  },
  {
   "cell_type": "markdown",
   "metadata": {},
   "source": [
    "Cria matrix de Users x Filmes "
   ]
  },
  {
   "cell_type": "code",
   "execution_count": 4,
   "metadata": {
    "collapsed": false,
    "scrolled": true
   },
   "outputs": [
    {
     "data": {
      "text/html": [
       "<div>\n",
       "<table border=\"1\" class=\"dataframe\">\n",
       "  <thead>\n",
       "    <tr style=\"text-align: right;\">\n",
       "      <th>movieId</th>\n",
       "      <th>1</th>\n",
       "      <th>2</th>\n",
       "      <th>3</th>\n",
       "      <th>4</th>\n",
       "      <th>5</th>\n",
       "      <th>6</th>\n",
       "      <th>7</th>\n",
       "      <th>8</th>\n",
       "      <th>9</th>\n",
       "      <th>10</th>\n",
       "      <th>...</th>\n",
       "      <th>161084</th>\n",
       "      <th>161155</th>\n",
       "      <th>161594</th>\n",
       "      <th>161830</th>\n",
       "      <th>161918</th>\n",
       "      <th>161944</th>\n",
       "      <th>162376</th>\n",
       "      <th>162542</th>\n",
       "      <th>162672</th>\n",
       "      <th>163949</th>\n",
       "    </tr>\n",
       "    <tr>\n",
       "      <th>userId</th>\n",
       "      <th></th>\n",
       "      <th></th>\n",
       "      <th></th>\n",
       "      <th></th>\n",
       "      <th></th>\n",
       "      <th></th>\n",
       "      <th></th>\n",
       "      <th></th>\n",
       "      <th></th>\n",
       "      <th></th>\n",
       "      <th></th>\n",
       "      <th></th>\n",
       "      <th></th>\n",
       "      <th></th>\n",
       "      <th></th>\n",
       "      <th></th>\n",
       "      <th></th>\n",
       "      <th></th>\n",
       "      <th></th>\n",
       "      <th></th>\n",
       "      <th></th>\n",
       "    </tr>\n",
       "  </thead>\n",
       "  <tbody>\n",
       "    <tr>\n",
       "      <th>668</th>\n",
       "      <td>0.0</td>\n",
       "      <td>0.0</td>\n",
       "      <td>0.0</td>\n",
       "      <td>0.0</td>\n",
       "      <td>0.0</td>\n",
       "      <td>0.0</td>\n",
       "      <td>0.0</td>\n",
       "      <td>0.0</td>\n",
       "      <td>0.0</td>\n",
       "      <td>0.0</td>\n",
       "      <td>...</td>\n",
       "      <td>0.0</td>\n",
       "      <td>0.0</td>\n",
       "      <td>0.0</td>\n",
       "      <td>0.0</td>\n",
       "      <td>0.0</td>\n",
       "      <td>0.0</td>\n",
       "      <td>0.0</td>\n",
       "      <td>0.0</td>\n",
       "      <td>0.0</td>\n",
       "      <td>0.0</td>\n",
       "    </tr>\n",
       "    <tr>\n",
       "      <th>669</th>\n",
       "      <td>0.0</td>\n",
       "      <td>0.0</td>\n",
       "      <td>0.0</td>\n",
       "      <td>0.0</td>\n",
       "      <td>0.0</td>\n",
       "      <td>0.0</td>\n",
       "      <td>0.0</td>\n",
       "      <td>0.0</td>\n",
       "      <td>0.0</td>\n",
       "      <td>0.0</td>\n",
       "      <td>...</td>\n",
       "      <td>0.0</td>\n",
       "      <td>0.0</td>\n",
       "      <td>0.0</td>\n",
       "      <td>0.0</td>\n",
       "      <td>0.0</td>\n",
       "      <td>0.0</td>\n",
       "      <td>0.0</td>\n",
       "      <td>0.0</td>\n",
       "      <td>0.0</td>\n",
       "      <td>0.0</td>\n",
       "    </tr>\n",
       "    <tr>\n",
       "      <th>670</th>\n",
       "      <td>4.0</td>\n",
       "      <td>0.0</td>\n",
       "      <td>0.0</td>\n",
       "      <td>0.0</td>\n",
       "      <td>0.0</td>\n",
       "      <td>0.0</td>\n",
       "      <td>0.0</td>\n",
       "      <td>0.0</td>\n",
       "      <td>0.0</td>\n",
       "      <td>0.0</td>\n",
       "      <td>...</td>\n",
       "      <td>0.0</td>\n",
       "      <td>0.0</td>\n",
       "      <td>0.0</td>\n",
       "      <td>0.0</td>\n",
       "      <td>0.0</td>\n",
       "      <td>0.0</td>\n",
       "      <td>0.0</td>\n",
       "      <td>0.0</td>\n",
       "      <td>0.0</td>\n",
       "      <td>0.0</td>\n",
       "    </tr>\n",
       "    <tr>\n",
       "      <th>671</th>\n",
       "      <td>5.0</td>\n",
       "      <td>0.0</td>\n",
       "      <td>0.0</td>\n",
       "      <td>0.0</td>\n",
       "      <td>0.0</td>\n",
       "      <td>0.0</td>\n",
       "      <td>0.0</td>\n",
       "      <td>0.0</td>\n",
       "      <td>0.0</td>\n",
       "      <td>0.0</td>\n",
       "      <td>...</td>\n",
       "      <td>0.0</td>\n",
       "      <td>0.0</td>\n",
       "      <td>0.0</td>\n",
       "      <td>0.0</td>\n",
       "      <td>0.0</td>\n",
       "      <td>0.0</td>\n",
       "      <td>0.0</td>\n",
       "      <td>0.0</td>\n",
       "      <td>0.0</td>\n",
       "      <td>0.0</td>\n",
       "    </tr>\n",
       "    <tr>\n",
       "      <th>672</th>\n",
       "      <td>3.5</td>\n",
       "      <td>0.0</td>\n",
       "      <td>0.0</td>\n",
       "      <td>0.0</td>\n",
       "      <td>0.0</td>\n",
       "      <td>0.0</td>\n",
       "      <td>0.0</td>\n",
       "      <td>0.0</td>\n",
       "      <td>0.0</td>\n",
       "      <td>0.0</td>\n",
       "      <td>...</td>\n",
       "      <td>0.0</td>\n",
       "      <td>0.0</td>\n",
       "      <td>0.0</td>\n",
       "      <td>0.0</td>\n",
       "      <td>0.0</td>\n",
       "      <td>0.0</td>\n",
       "      <td>0.0</td>\n",
       "      <td>0.0</td>\n",
       "      <td>0.0</td>\n",
       "      <td>0.0</td>\n",
       "    </tr>\n",
       "  </tbody>\n",
       "</table>\n",
       "<p>5 rows × 9066 columns</p>\n",
       "</div>"
      ],
      "text/plain": [
       "movieId  1       2       3       4       5       6       7       8       \\\n",
       "userId                                                                    \n",
       "668         0.0     0.0     0.0     0.0     0.0     0.0     0.0     0.0   \n",
       "669         0.0     0.0     0.0     0.0     0.0     0.0     0.0     0.0   \n",
       "670         4.0     0.0     0.0     0.0     0.0     0.0     0.0     0.0   \n",
       "671         5.0     0.0     0.0     0.0     0.0     0.0     0.0     0.0   \n",
       "672         3.5     0.0     0.0     0.0     0.0     0.0     0.0     0.0   \n",
       "\n",
       "movieId  9       10       ...    161084  161155  161594  161830  161918  \\\n",
       "userId                    ...                                             \n",
       "668         0.0     0.0   ...       0.0     0.0     0.0     0.0     0.0   \n",
       "669         0.0     0.0   ...       0.0     0.0     0.0     0.0     0.0   \n",
       "670         0.0     0.0   ...       0.0     0.0     0.0     0.0     0.0   \n",
       "671         0.0     0.0   ...       0.0     0.0     0.0     0.0     0.0   \n",
       "672         0.0     0.0   ...       0.0     0.0     0.0     0.0     0.0   \n",
       "\n",
       "movieId  161944  162376  162542  162672  163949  \n",
       "userId                                           \n",
       "668         0.0     0.0     0.0     0.0     0.0  \n",
       "669         0.0     0.0     0.0     0.0     0.0  \n",
       "670         0.0     0.0     0.0     0.0     0.0  \n",
       "671         0.0     0.0     0.0     0.0     0.0  \n",
       "672         0.0     0.0     0.0     0.0     0.0  \n",
       "\n",
       "[5 rows x 9066 columns]"
      ]
     },
     "execution_count": 4,
     "metadata": {},
     "output_type": "execute_result"
    }
   ],
   "source": [
    "R_df = ratings_df.pivot(index = 'userId', columns ='movieId', values = 'rating').fillna(0)\n",
    "R_df.tail()"
   ]
  },
  {
   "cell_type": "markdown",
   "metadata": {},
   "source": [
    "### Visualização de algumas informações importantes"
   ]
  },
  {
   "cell_type": "markdown",
   "metadata": {},
   "source": [
    "Entradas não nulas da matriz"
   ]
  },
  {
   "cell_type": "code",
   "execution_count": 5,
   "metadata": {
    "collapsed": false
   },
   "outputs": [
    {
     "name": "stdout",
     "output_type": "stream",
     "text": [
      "% entradas não nulas: 1.6418 %\n"
     ]
    }
   ],
   "source": [
    "print('% entradas não nulas: {:0.4f} %'.format(100*(np.count_nonzero(R_df>0.0)/(R_df.shape[0]*R_df.shape[1]))) )"
   ]
  },
  {
   "cell_type": "code",
   "execution_count": 6,
   "metadata": {
    "collapsed": false,
    "scrolled": false
   },
   "outputs": [
    {
     "data": {
      "text/plain": [
       "<matplotlib.axes._subplots.AxesSubplot at 0x26c5b895b38>"
      ]
     },
     "execution_count": 6,
     "metadata": {},
     "output_type": "execute_result"
    },
    {
     "data": {
      "image/png": "[encoded data removed]",
      "text/plain": [
       "<matplotlib.figure.Figure at 0x26c5b895080>"
      ]
     },
     "metadata": {},
     "output_type": "display_data"
    }
   ],
   "source": [
    "R_df[R_df>0.0].count(axis = 1).sort_values(ascending= False).plot(kind='bar', title='Quantidade de ratings por usuário (geral)')"
   ]
  },
  {
   "cell_type": "code",
   "execution_count": 7,
   "metadata": {
    "collapsed": false
   },
   "outputs": [
    {
     "data": {
      "text/plain": [
       "<matplotlib.axes._subplots.AxesSubplot at 0x26c5bb05da0>"
      ]
     },
     "execution_count": 7,
     "metadata": {},
     "output_type": "execute_result"
    },
    {
     "data": {
      "image/png": "[encoded data removed]",
      "text/plain": [
       "<matplotlib.figure.Figure at 0x26c5bad2940>"
      ]
     },
     "metadata": {},
     "output_type": "display_data"
    }
   ],
   "source": [
    "R_df[R_df>0.0].count(axis = 1).sort_values(ascending= False).head(30).plot(kind='bar', title='Quantidade de ratings por usuário (menores)')"
   ]
  },
  {
   "cell_type": "code",
   "execution_count": 8,
   "metadata": {
    "collapsed": false
   },
   "outputs": [
    {
     "data": {
      "text/plain": [
       "<matplotlib.axes._subplots.AxesSubplot at 0x26c5c850cf8>"
      ]
     },
     "execution_count": 8,
     "metadata": {},
     "output_type": "execute_result"
    },
    {
     "data": {
      "image/png": "[encoded data removed]",
      "text/plain": [
       "<matplotlib.figure.Figure at 0x26c5c7f51d0>"
      ]
     },
     "metadata": {},
     "output_type": "display_data"
    }
   ],
   "source": [
    "R_df[R_df>0.0].count(axis = 1).sort_values(ascending= False).head(30).plot(kind='bar', title='Quantidade de ratings por usuário (maiores)')"
   ]
  },
  {
   "cell_type": "code",
   "execution_count": 9,
   "metadata": {
    "collapsed": false
   },
   "outputs": [
    {
     "data": {
      "text/plain": [
       "<matplotlib.axes._subplots.AxesSubplot at 0x26c5c473ef0>"
      ]
     },
     "execution_count": 9,
     "metadata": {},
     "output_type": "execute_result"
    },
    {
     "data": {
      "image/png": "[encoded data removed]",
      "text/plain": [
       "<matplotlib.figure.Figure at 0x26c5c45f9e8>"
      ]
     },
     "metadata": {},
     "output_type": "display_data"
    }
   ],
   "source": [
    "R_df[R_df>0.0].mean(axis = 1).sort_values(ascending= False).plot(kind='bar', title='Média de ratings por usuário' )"
   ]
  },
  {
   "cell_type": "code",
   "execution_count": 10,
   "metadata": {
    "collapsed": false
   },
   "outputs": [
    {
     "data": {
      "text/plain": [
       "<matplotlib.axes._subplots.AxesSubplot at 0x26c5cd1f748>"
      ]
     },
     "execution_count": 10,
     "metadata": {},
     "output_type": "execute_result"
    },
    {
     "data": {
      "image/png": "[encoded data removed]",
      "text/plain": [
       "<matplotlib.figure.Figure at 0x26c5cd02e80>"
      ]
     },
     "metadata": {},
     "output_type": "display_data"
    }
   ],
   "source": [
    "R_df[R_df>0.0].mean(axis = 1).sort_values(ascending= False).plot(kind='bar', title='Média de ratings por usuário')"
   ]
  },
  {
   "cell_type": "markdown",
   "metadata": {},
   "source": [
    "### Algoritmo SVD"
   ]
  },
  {
   "cell_type": "markdown",
   "metadata": {},
   "source": [
    "Substitui os valores nulos por 0 e transforma a matrix de reviews em uma matrix com uma diferença da média do usuário\n"
   ]
  },
  {
   "cell_type": "code",
   "execution_count": 11,
   "metadata": {
    "collapsed": true
   },
   "outputs": [],
   "source": [
    "R = R_df.as_matrix()\n",
    "user_ratings_mean = np.mean(R, axis = 1)\n",
    "R_demeaned = R - user_ratings_mean.reshape(-1, 1)"
   ]
  },
  {
   "cell_type": "markdown",
   "metadata": {},
   "source": [
    "Aplica a transformação SVD"
   ]
  },
  {
   "cell_type": "code",
   "execution_count": 12,
   "metadata": {
    "collapsed": true
   },
   "outputs": [],
   "source": [
    "U, sigma, Vt = svds(R_demeaned, k = 50)\n",
    "\n",
    "sigma = np.diag(sigma)"
   ]
  },
  {
   "cell_type": "markdown",
   "metadata": {},
   "source": [
    "Reconstroi a matrix de ratings"
   ]
  },
  {
   "cell_type": "code",
   "execution_count": 13,
   "metadata": {
    "collapsed": true
   },
   "outputs": [],
   "source": [
    "all_user_predicted_ratings = np.dot(np.dot(U, sigma), Vt) \n",
    "all_user_predicted_ratings = all_user_predicted_ratings + user_ratings_mean.reshape(-1, 1)\n",
    "del U, sigma, Vt,  R, user_ratings_mean\n",
    "preds_df = pd.DataFrame(all_user_predicted_ratings, columns = R_df.columns)\n",
    "del all_user_predicted_ratings"
   ]
  },
  {
   "cell_type": "markdown",
   "metadata": {},
   "source": [
    "Define alguns parâmetros"
   ]
  },
  {
   "cell_type": "code",
   "execution_count": 14,
   "metadata": {
    "collapsed": true
   },
   "outputs": [],
   "source": [
    "userId= me\n",
    "num_recommendations= 10"
   ]
  },
  {
   "cell_type": "markdown",
   "metadata": {},
   "source": [
    "Filtra os filmes já assistidos"
   ]
  },
  {
   "cell_type": "code",
   "execution_count": 15,
   "metadata": {
    "collapsed": false
   },
   "outputs": [
    {
     "name": "stdout",
     "output_type": "stream",
     "text": [
      "Usuário 672 já deixou seu rating para 21 filmes.\n"
     ]
    }
   ],
   "source": [
    "user_row_number = userId - 1 \n",
    "\n",
    "#pega as filmes que o usuário já assistiu\n",
    "sorted_user_predictions = preds_df.iloc[user_row_number].sort_values(ascending=False) \n",
    "    \n",
    "user_data = ratings_df[ratings_df['userId'] == (userId)]\n",
    "already_rated = (user_data.merge(movies_df, how = 'left', left_on = 'movieId', right_on = 'movieId').\n",
    "                sort_values(['rating'], ascending=False)\n",
    "            )\n",
    "\n",
    "print('Usuário {0} já deixou seu rating para {1} filmes.'.format(userId, already_rated.shape[0]) )\n",
    "  "
   ]
  },
  {
   "cell_type": "markdown",
   "metadata": {},
   "source": [
    "Busca as predições"
   ]
  },
  {
   "cell_type": "code",
   "execution_count": 16,
   "metadata": {
    "collapsed": false,
    "scrolled": true
   },
   "outputs": [
    {
     "name": "stdout",
     "output_type": "stream",
     "text": [
      "Recomendando top 10 filmes ainda não vistou pelo usuário.\n"
     ]
    }
   ],
   "source": [
    "predictions = (movies_df[movies_df['movieId'].isin(already_rated['movieId'])].\n",
    "                     merge(pd.DataFrame(sorted_user_predictions).reset_index(), how = 'left',\n",
    "                   left_on = 'movieId', right_on = 'movieId').\n",
    "                   rename(columns = {user_row_number: 'Predictions'}).\n",
    "                   sort_values('Predictions', ascending = False).\n",
    "                   iloc[:num_recommendations, :-1]\n",
    "                  )\n",
    "\n",
    "print('Recomendando top {0} filmes ainda não vistou pelo usuário.'.format(num_recommendations))"
   ]
  },
  {
   "cell_type": "markdown",
   "metadata": {},
   "source": [
    "Filmes que "
   ]
  },
  {
   "cell_type": "code",
   "execution_count": 17,
   "metadata": {
    "collapsed": false,
    "scrolled": true
   },
   "outputs": [
    {
     "data": {
      "text/html": [
       "<div>\n",
       "<table border=\"1\" class=\"dataframe\">\n",
       "  <thead>\n",
       "    <tr style=\"text-align: right;\">\n",
       "      <th></th>\n",
       "      <th>userId</th>\n",
       "      <th>movieId</th>\n",
       "      <th>rating</th>\n",
       "      <th>title</th>\n",
       "      <th>genres</th>\n",
       "    </tr>\n",
       "  </thead>\n",
       "  <tbody>\n",
       "    <tr>\n",
       "      <th>20</th>\n",
       "      <td>672</td>\n",
       "      <td>68157</td>\n",
       "      <td>5.0</td>\n",
       "      <td>Inglourious Basterds (2009)</td>\n",
       "      <td>Action|Drama|War</td>\n",
       "    </tr>\n",
       "    <tr>\n",
       "      <th>3</th>\n",
       "      <td>672</td>\n",
       "      <td>130634</td>\n",
       "      <td>5.0</td>\n",
       "      <td>Furious 7 (2015)</td>\n",
       "      <td>Action|Crime|Thriller</td>\n",
       "    </tr>\n",
       "    <tr>\n",
       "      <th>9</th>\n",
       "      <td>672</td>\n",
       "      <td>112183</td>\n",
       "      <td>5.0</td>\n",
       "      <td>Birdman: Or (The Unexpected Virtue of Ignoranc...</td>\n",
       "      <td>Comedy|Drama</td>\n",
       "    </tr>\n",
       "    <tr>\n",
       "      <th>19</th>\n",
       "      <td>672</td>\n",
       "      <td>67923</td>\n",
       "      <td>4.5</td>\n",
       "      <td>Fast &amp; Furious (Fast and the Furious 4, The) (...</td>\n",
       "      <td>Action|Crime|Drama|Thriller</td>\n",
       "    </tr>\n",
       "    <tr>\n",
       "      <th>4</th>\n",
       "      <td>672</td>\n",
       "      <td>116797</td>\n",
       "      <td>4.5</td>\n",
       "      <td>The Imitation Game (2014)</td>\n",
       "      <td>Drama|Thriller|War</td>\n",
       "    </tr>\n",
       "    <tr>\n",
       "      <th>18</th>\n",
       "      <td>672</td>\n",
       "      <td>63515</td>\n",
       "      <td>4.5</td>\n",
       "      <td>The Island (2006)</td>\n",
       "      <td>Drama|Mystery</td>\n",
       "    </tr>\n",
       "    <tr>\n",
       "      <th>1</th>\n",
       "      <td>672</td>\n",
       "      <td>135861</td>\n",
       "      <td>4.5</td>\n",
       "      <td>Ted 2 (2015)</td>\n",
       "      <td>Comedy</td>\n",
       "    </tr>\n",
       "    <tr>\n",
       "      <th>11</th>\n",
       "      <td>672</td>\n",
       "      <td>109673</td>\n",
       "      <td>4.5</td>\n",
       "      <td>300: Rise of an Empire (2014)</td>\n",
       "      <td>Action|Drama|War|IMAX</td>\n",
       "    </tr>\n",
       "    <tr>\n",
       "      <th>13</th>\n",
       "      <td>672</td>\n",
       "      <td>50189</td>\n",
       "      <td>4.0</td>\n",
       "      <td>American Pie Presents The Naked Mile (American...</td>\n",
       "      <td>Comedy|Romance</td>\n",
       "    </tr>\n",
       "    <tr>\n",
       "      <th>5</th>\n",
       "      <td>672</td>\n",
       "      <td>114662</td>\n",
       "      <td>4.0</td>\n",
       "      <td>American Sniper (2014)</td>\n",
       "      <td>Action|War</td>\n",
       "    </tr>\n",
       "  </tbody>\n",
       "</table>\n",
       "</div>"
      ],
      "text/plain": [
       "    userId  movieId  rating  \\\n",
       "20     672    68157     5.0   \n",
       "3      672   130634     5.0   \n",
       "9      672   112183     5.0   \n",
       "19     672    67923     4.5   \n",
       "4      672   116797     4.5   \n",
       "18     672    63515     4.5   \n",
       "1      672   135861     4.5   \n",
       "11     672   109673     4.5   \n",
       "13     672    50189     4.0   \n",
       "5      672   114662     4.0   \n",
       "\n",
       "                                                title  \\\n",
       "20                        Inglourious Basterds (2009)   \n",
       "3                                    Furious 7 (2015)   \n",
       "9   Birdman: Or (The Unexpected Virtue of Ignoranc...   \n",
       "19  Fast & Furious (Fast and the Furious 4, The) (...   \n",
       "4                           The Imitation Game (2014)   \n",
       "18                                  The Island (2006)   \n",
       "1                                        Ted 2 (2015)   \n",
       "11                      300: Rise of an Empire (2014)   \n",
       "13  American Pie Presents The Naked Mile (American...   \n",
       "5                              American Sniper (2014)   \n",
       "\n",
       "                         genres  \n",
       "20             Action|Drama|War  \n",
       "3         Action|Crime|Thriller  \n",
       "9                  Comedy|Drama  \n",
       "19  Action|Crime|Drama|Thriller  \n",
       "4            Drama|Thriller|War  \n",
       "18                Drama|Mystery  \n",
       "1                        Comedy  \n",
       "11        Action|Drama|War|IMAX  \n",
       "13               Comedy|Romance  \n",
       "5                    Action|War  "
      ]
     },
     "execution_count": 17,
     "metadata": {},
     "output_type": "execute_result"
    }
   ],
   "source": [
    "already_rated.head(10)"
   ]
  },
  {
   "cell_type": "markdown",
   "metadata": {},
   "source": [
    "### Recomendações"
   ]
  },
  {
   "cell_type": "code",
   "execution_count": 18,
   "metadata": {
    "collapsed": false
   },
   "outputs": [
    {
     "data": {
      "text/html": [
       "<div>\n",
       "<table border=\"1\" class=\"dataframe\">\n",
       "  <thead>\n",
       "    <tr style=\"text-align: right;\">\n",
       "      <th></th>\n",
       "      <th>movieId</th>\n",
       "      <th>title</th>\n",
       "      <th>genres</th>\n",
       "    </tr>\n",
       "  </thead>\n",
       "  <tbody>\n",
       "    <tr>\n",
       "      <th>0</th>\n",
       "      <td>1</td>\n",
       "      <td>Toy Story (1995)</td>\n",
       "      <td>Adventure|Animation|Children|Comedy|Fantasy</td>\n",
       "    </tr>\n",
       "    <tr>\n",
       "      <th>8</th>\n",
       "      <td>68157</td>\n",
       "      <td>Inglourious Basterds (2009)</td>\n",
       "      <td>Action|Drama|War</td>\n",
       "    </tr>\n",
       "    <tr>\n",
       "      <th>17</th>\n",
       "      <td>116797</td>\n",
       "      <td>The Imitation Game (2014)</td>\n",
       "      <td>Drama|Thriller|War</td>\n",
       "    </tr>\n",
       "    <tr>\n",
       "      <th>2</th>\n",
       "      <td>59784</td>\n",
       "      <td>Kung Fu Panda (2008)</td>\n",
       "      <td>Action|Animation|Children|Comedy|IMAX</td>\n",
       "    </tr>\n",
       "    <tr>\n",
       "      <th>12</th>\n",
       "      <td>112183</td>\n",
       "      <td>Birdman: Or (The Unexpected Virtue of Ignoranc...</td>\n",
       "      <td>Comedy|Drama</td>\n",
       "    </tr>\n",
       "    <tr>\n",
       "      <th>9</th>\n",
       "      <td>108932</td>\n",
       "      <td>The Lego Movie (2014)</td>\n",
       "      <td>Action|Adventure|Animation|Children|Comedy|Fan...</td>\n",
       "    </tr>\n",
       "    <tr>\n",
       "      <th>16</th>\n",
       "      <td>114662</td>\n",
       "      <td>American Sniper (2014)</td>\n",
       "      <td>Action|War</td>\n",
       "    </tr>\n",
       "    <tr>\n",
       "      <th>5</th>\n",
       "      <td>62999</td>\n",
       "      <td>Madagascar: Escape 2 Africa (2008)</td>\n",
       "      <td>Action|Adventure|Animation|Children|Comedy|IMAX</td>\n",
       "    </tr>\n",
       "    <tr>\n",
       "      <th>11</th>\n",
       "      <td>110553</td>\n",
       "      <td>The Amazing Spider-Man 2 (2014)</td>\n",
       "      <td>Action|Sci-Fi|IMAX</td>\n",
       "    </tr>\n",
       "    <tr>\n",
       "      <th>10</th>\n",
       "      <td>109673</td>\n",
       "      <td>300: Rise of an Empire (2014)</td>\n",
       "      <td>Action|Drama|War|IMAX</td>\n",
       "    </tr>\n",
       "  </tbody>\n",
       "</table>\n",
       "</div>"
      ],
      "text/plain": [
       "    movieId                                              title  \\\n",
       "0         1                                   Toy Story (1995)   \n",
       "8     68157                        Inglourious Basterds (2009)   \n",
       "17   116797                          The Imitation Game (2014)   \n",
       "2     59784                               Kung Fu Panda (2008)   \n",
       "12   112183  Birdman: Or (The Unexpected Virtue of Ignoranc...   \n",
       "9    108932                              The Lego Movie (2014)   \n",
       "16   114662                             American Sniper (2014)   \n",
       "5     62999                 Madagascar: Escape 2 Africa (2008)   \n",
       "11   110553                    The Amazing Spider-Man 2 (2014)   \n",
       "10   109673                      300: Rise of an Empire (2014)   \n",
       "\n",
       "                                               genres  \n",
       "0         Adventure|Animation|Children|Comedy|Fantasy  \n",
       "8                                    Action|Drama|War  \n",
       "17                                 Drama|Thriller|War  \n",
       "2               Action|Animation|Children|Comedy|IMAX  \n",
       "12                                       Comedy|Drama  \n",
       "9   Action|Adventure|Animation|Children|Comedy|Fan...  \n",
       "16                                         Action|War  \n",
       "5     Action|Adventure|Animation|Children|Comedy|IMAX  \n",
       "11                                 Action|Sci-Fi|IMAX  \n",
       "10                              Action|Drama|War|IMAX  "
      ]
     },
     "execution_count": 18,
     "metadata": {},
     "output_type": "execute_result"
    }
   ],
   "source": [
    "predictions"
   ]
  }
 ],
 "metadata": {
  "anaconda-cloud": {},
  "kernelspec": {
   "display_name": "Python [default]",
   "language": "python",
   "name": "python3"
  },
  "language_info": {
   "codemirror_mode": {
    "name": "ipython",
    "version": 3
   },
   "file_extension": ".py",
   "mimetype": "text/x-python",
   "name": "python",
   "nbconvert_exporter": "python",
   "pygments_lexer": "ipython3",
   "version": "3.5.2"
  }
 },
 "nbformat": 4,
 "nbformat_minor": 1
}
